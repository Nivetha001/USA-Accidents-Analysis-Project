{
 "cells": [
  {
   "cell_type": "markdown",
   "id": "9044fec9",
   "metadata": {},
   "source": [
    "# Author : Nivetha N\n",
    "\n",
    "## Project  :  US Accidents Data Analysis"
   ]
  },
  {
   "cell_type": "markdown",
   "id": "2cf75dd2",
   "metadata": {},
   "source": [
    "### 1. Import Necessary Libraries"
   ]
  },
  {
   "cell_type": "code",
   "execution_count": 1,
   "id": "2f7494af",
   "metadata": {},
   "outputs": [],
   "source": [
    "import numpy as np\n",
    "import pandas as pd\n",
    "import matplotlib.pyplot as plt\n",
    "import seaborn as sns\n"
   ]
  },
  {
   "cell_type": "markdown",
   "id": "8d3d4598",
   "metadata": {},
   "source": [
    "### 2. Read US Accidents Data set"
   ]
  },
  {
   "cell_type": "code",
   "execution_count": 2,
   "id": "33d662ca",
   "metadata": {},
   "outputs": [],
   "source": [
    "US_data=pd.read_csv(r'D:\\PRACTICE\\US_Accidents_Dec20_updated.csv')"
   ]
  },
  {
   "cell_type": "code",
   "execution_count": 3,
   "id": "6e3a3706",
   "metadata": {},
   "outputs": [
    {
     "data": {
      "text/html": [
       "<div>\n",
       "<style scoped>\n",
       "    .dataframe tbody tr th:only-of-type {\n",
       "        vertical-align: middle;\n",
       "    }\n",
       "\n",
       "    .dataframe tbody tr th {\n",
       "        vertical-align: top;\n",
       "    }\n",
       "\n",
       "    .dataframe thead th {\n",
       "        text-align: right;\n",
       "    }\n",
       "</style>\n",
       "<table border=\"1\" class=\"dataframe\">\n",
       "  <thead>\n",
       "    <tr style=\"text-align: right;\">\n",
       "      <th></th>\n",
       "      <th>ID</th>\n",
       "      <th>Severity</th>\n",
       "      <th>Start_Time</th>\n",
       "      <th>End_Time</th>\n",
       "      <th>Start_Lat</th>\n",
       "      <th>Start_Lng</th>\n",
       "      <th>End_Lat</th>\n",
       "      <th>End_Lng</th>\n",
       "      <th>Distance(mi)</th>\n",
       "      <th>Description</th>\n",
       "      <th>...</th>\n",
       "      <th>Roundabout</th>\n",
       "      <th>Station</th>\n",
       "      <th>Stop</th>\n",
       "      <th>Traffic_Calming</th>\n",
       "      <th>Traffic_Signal</th>\n",
       "      <th>Turning_Loop</th>\n",
       "      <th>Sunrise_Sunset</th>\n",
       "      <th>Civil_Twilight</th>\n",
       "      <th>Nautical_Twilight</th>\n",
       "      <th>Astronomical_Twilight</th>\n",
       "    </tr>\n",
       "  </thead>\n",
       "  <tbody>\n",
       "    <tr>\n",
       "      <th>0</th>\n",
       "      <td>A-2716600</td>\n",
       "      <td>3</td>\n",
       "      <td>2016-02-08 00:37:08</td>\n",
       "      <td>2016-02-08 06:37:08</td>\n",
       "      <td>40.10891</td>\n",
       "      <td>-83.09286</td>\n",
       "      <td>40.11206</td>\n",
       "      <td>-83.03187</td>\n",
       "      <td>3.230</td>\n",
       "      <td>Between Sawmill Rd/Exit 20 and OH-315/Olentang...</td>\n",
       "      <td>...</td>\n",
       "      <td>False</td>\n",
       "      <td>False</td>\n",
       "      <td>False</td>\n",
       "      <td>False</td>\n",
       "      <td>False</td>\n",
       "      <td>False</td>\n",
       "      <td>Night</td>\n",
       "      <td>Night</td>\n",
       "      <td>Night</td>\n",
       "      <td>Night</td>\n",
       "    </tr>\n",
       "    <tr>\n",
       "      <th>1</th>\n",
       "      <td>A-2716601</td>\n",
       "      <td>2</td>\n",
       "      <td>2016-02-08 05:56:20</td>\n",
       "      <td>2016-02-08 11:56:20</td>\n",
       "      <td>39.86542</td>\n",
       "      <td>-84.06280</td>\n",
       "      <td>39.86501</td>\n",
       "      <td>-84.04873</td>\n",
       "      <td>0.747</td>\n",
       "      <td>At OH-4/OH-235/Exit 41 - Accident.</td>\n",
       "      <td>...</td>\n",
       "      <td>False</td>\n",
       "      <td>False</td>\n",
       "      <td>False</td>\n",
       "      <td>False</td>\n",
       "      <td>False</td>\n",
       "      <td>False</td>\n",
       "      <td>Night</td>\n",
       "      <td>Night</td>\n",
       "      <td>Night</td>\n",
       "      <td>Night</td>\n",
       "    </tr>\n",
       "    <tr>\n",
       "      <th>2</th>\n",
       "      <td>A-2716602</td>\n",
       "      <td>2</td>\n",
       "      <td>2016-02-08 06:15:39</td>\n",
       "      <td>2016-02-08 12:15:39</td>\n",
       "      <td>39.10266</td>\n",
       "      <td>-84.52468</td>\n",
       "      <td>39.10209</td>\n",
       "      <td>-84.52396</td>\n",
       "      <td>0.055</td>\n",
       "      <td>At I-71/US-50/Exit 1 - Accident.</td>\n",
       "      <td>...</td>\n",
       "      <td>False</td>\n",
       "      <td>False</td>\n",
       "      <td>False</td>\n",
       "      <td>False</td>\n",
       "      <td>False</td>\n",
       "      <td>False</td>\n",
       "      <td>Night</td>\n",
       "      <td>Night</td>\n",
       "      <td>Night</td>\n",
       "      <td>Day</td>\n",
       "    </tr>\n",
       "    <tr>\n",
       "      <th>3</th>\n",
       "      <td>A-2716603</td>\n",
       "      <td>2</td>\n",
       "      <td>2016-02-08 06:15:39</td>\n",
       "      <td>2016-02-08 12:15:39</td>\n",
       "      <td>39.10148</td>\n",
       "      <td>-84.52341</td>\n",
       "      <td>39.09841</td>\n",
       "      <td>-84.52241</td>\n",
       "      <td>0.219</td>\n",
       "      <td>At I-71/US-50/Exit 1 - Accident.</td>\n",
       "      <td>...</td>\n",
       "      <td>False</td>\n",
       "      <td>False</td>\n",
       "      <td>False</td>\n",
       "      <td>False</td>\n",
       "      <td>False</td>\n",
       "      <td>False</td>\n",
       "      <td>Night</td>\n",
       "      <td>Night</td>\n",
       "      <td>Night</td>\n",
       "      <td>Day</td>\n",
       "    </tr>\n",
       "    <tr>\n",
       "      <th>4</th>\n",
       "      <td>A-2716604</td>\n",
       "      <td>2</td>\n",
       "      <td>2016-02-08 06:51:45</td>\n",
       "      <td>2016-02-08 12:51:45</td>\n",
       "      <td>41.06213</td>\n",
       "      <td>-81.53784</td>\n",
       "      <td>41.06217</td>\n",
       "      <td>-81.53547</td>\n",
       "      <td>0.123</td>\n",
       "      <td>At Dart Ave/Exit 21 - Accident.</td>\n",
       "      <td>...</td>\n",
       "      <td>False</td>\n",
       "      <td>False</td>\n",
       "      <td>False</td>\n",
       "      <td>False</td>\n",
       "      <td>False</td>\n",
       "      <td>False</td>\n",
       "      <td>Night</td>\n",
       "      <td>Night</td>\n",
       "      <td>Day</td>\n",
       "      <td>Day</td>\n",
       "    </tr>\n",
       "  </tbody>\n",
       "</table>\n",
       "<p>5 rows × 47 columns</p>\n",
       "</div>"
      ],
      "text/plain": [
       "          ID  Severity           Start_Time             End_Time  Start_Lat  \\\n",
       "0  A-2716600         3  2016-02-08 00:37:08  2016-02-08 06:37:08   40.10891   \n",
       "1  A-2716601         2  2016-02-08 05:56:20  2016-02-08 11:56:20   39.86542   \n",
       "2  A-2716602         2  2016-02-08 06:15:39  2016-02-08 12:15:39   39.10266   \n",
       "3  A-2716603         2  2016-02-08 06:15:39  2016-02-08 12:15:39   39.10148   \n",
       "4  A-2716604         2  2016-02-08 06:51:45  2016-02-08 12:51:45   41.06213   \n",
       "\n",
       "   Start_Lng   End_Lat   End_Lng  Distance(mi)  \\\n",
       "0  -83.09286  40.11206 -83.03187         3.230   \n",
       "1  -84.06280  39.86501 -84.04873         0.747   \n",
       "2  -84.52468  39.10209 -84.52396         0.055   \n",
       "3  -84.52341  39.09841 -84.52241         0.219   \n",
       "4  -81.53784  41.06217 -81.53547         0.123   \n",
       "\n",
       "                                         Description  ...  Roundabout Station  \\\n",
       "0  Between Sawmill Rd/Exit 20 and OH-315/Olentang...  ...       False   False   \n",
       "1                 At OH-4/OH-235/Exit 41 - Accident.  ...       False   False   \n",
       "2                   At I-71/US-50/Exit 1 - Accident.  ...       False   False   \n",
       "3                   At I-71/US-50/Exit 1 - Accident.  ...       False   False   \n",
       "4                    At Dart Ave/Exit 21 - Accident.  ...       False   False   \n",
       "\n",
       "    Stop Traffic_Calming Traffic_Signal Turning_Loop Sunrise_Sunset  \\\n",
       "0  False           False          False        False          Night   \n",
       "1  False           False          False        False          Night   \n",
       "2  False           False          False        False          Night   \n",
       "3  False           False          False        False          Night   \n",
       "4  False           False          False        False          Night   \n",
       "\n",
       "  Civil_Twilight Nautical_Twilight Astronomical_Twilight  \n",
       "0          Night             Night                 Night  \n",
       "1          Night             Night                 Night  \n",
       "2          Night             Night                   Day  \n",
       "3          Night             Night                   Day  \n",
       "4          Night               Day                   Day  \n",
       "\n",
       "[5 rows x 47 columns]"
      ]
     },
     "execution_count": 3,
     "metadata": {},
     "output_type": "execute_result"
    }
   ],
   "source": [
    "US_data.head(5)"
   ]
  },
  {
   "cell_type": "code",
   "execution_count": 4,
   "id": "849b5c38",
   "metadata": {},
   "outputs": [
    {
     "data": {
      "text/plain": [
       "(1516064, 47)"
      ]
     },
     "execution_count": 4,
     "metadata": {},
     "output_type": "execute_result"
    }
   ],
   "source": [
    "US_data.shape"
   ]
  },
  {
   "cell_type": "markdown",
   "id": "7470a050",
   "metadata": {},
   "source": [
    "## 1.5 million Rows and 47 Columns presented in this data set"
   ]
  },
  {
   "cell_type": "code",
   "execution_count": 5,
   "id": "b5432dd8",
   "metadata": {},
   "outputs": [
    {
     "name": "stdout",
     "output_type": "stream",
     "text": [
      "<class 'pandas.core.frame.DataFrame'>\n",
      "RangeIndex: 1516064 entries, 0 to 1516063\n",
      "Data columns (total 47 columns):\n",
      " #   Column                 Non-Null Count    Dtype  \n",
      "---  ------                 --------------    -----  \n",
      " 0   ID                     1516064 non-null  object \n",
      " 1   Severity               1516064 non-null  int64  \n",
      " 2   Start_Time             1516064 non-null  object \n",
      " 3   End_Time               1516064 non-null  object \n",
      " 4   Start_Lat              1516064 non-null  float64\n",
      " 5   Start_Lng              1516064 non-null  float64\n",
      " 6   End_Lat                1516064 non-null  float64\n",
      " 7   End_Lng                1516064 non-null  float64\n",
      " 8   Distance(mi)           1516064 non-null  float64\n",
      " 9   Description            1516064 non-null  object \n",
      " 10  Number                 469969 non-null   float64\n",
      " 11  Street                 1516064 non-null  object \n",
      " 12  Side                   1516064 non-null  object \n",
      " 13  City                   1515981 non-null  object \n",
      " 14  County                 1516064 non-null  object \n",
      " 15  State                  1516064 non-null  object \n",
      " 16  Zipcode                1515129 non-null  object \n",
      " 17  Country                1516064 non-null  object \n",
      " 18  Timezone               1513762 non-null  object \n",
      " 19  Airport_Code           1511816 non-null  object \n",
      " 20  Weather_Timestamp      1485800 non-null  object \n",
      " 21  Temperature(F)         1473031 non-null  float64\n",
      " 22  Wind_Chill(F)          1066748 non-null  float64\n",
      " 23  Humidity(%)            1470555 non-null  float64\n",
      " 24  Pressure(in)           1479790 non-null  float64\n",
      " 25  Visibility(mi)         1471853 non-null  float64\n",
      " 26  Wind_Direction         1474206 non-null  object \n",
      " 27  Wind_Speed(mph)        1387202 non-null  float64\n",
      " 28  Precipitation(in)      1005515 non-null  float64\n",
      " 29  Weather_Condition      1472057 non-null  object \n",
      " 30  Amenity                1516064 non-null  bool   \n",
      " 31  Bump                   1516064 non-null  bool   \n",
      " 32  Crossing               1516064 non-null  bool   \n",
      " 33  Give_Way               1516064 non-null  bool   \n",
      " 34  Junction               1516064 non-null  bool   \n",
      " 35  No_Exit                1516064 non-null  bool   \n",
      " 36  Railway                1516064 non-null  bool   \n",
      " 37  Roundabout             1516064 non-null  bool   \n",
      " 38  Station                1516064 non-null  bool   \n",
      " 39  Stop                   1516064 non-null  bool   \n",
      " 40  Traffic_Calming        1516064 non-null  bool   \n",
      " 41  Traffic_Signal         1516064 non-null  bool   \n",
      " 42  Turning_Loop           1516064 non-null  bool   \n",
      " 43  Sunrise_Sunset         1515981 non-null  object \n",
      " 44  Civil_Twilight         1515981 non-null  object \n",
      " 45  Nautical_Twilight      1515981 non-null  object \n",
      " 46  Astronomical_Twilight  1515981 non-null  object \n",
      "dtypes: bool(13), float64(13), int64(1), object(20)\n",
      "memory usage: 412.1+ MB\n"
     ]
    }
   ],
   "source": [
    "US_data.info()"
   ]
  },
  {
   "cell_type": "markdown",
   "id": "d77a7525",
   "metadata": {},
   "source": [
    "### int - 1, Float - 13, bool columns - 13, object - 20\n"
   ]
  },
  {
   "cell_type": "code",
   "execution_count": 6,
   "id": "30ca2782",
   "metadata": {},
   "outputs": [
    {
     "data": {
      "text/html": [
       "<div>\n",
       "<style scoped>\n",
       "    .dataframe tbody tr th:only-of-type {\n",
       "        vertical-align: middle;\n",
       "    }\n",
       "\n",
       "    .dataframe tbody tr th {\n",
       "        vertical-align: top;\n",
       "    }\n",
       "\n",
       "    .dataframe thead th {\n",
       "        text-align: right;\n",
       "    }\n",
       "</style>\n",
       "<table border=\"1\" class=\"dataframe\">\n",
       "  <thead>\n",
       "    <tr style=\"text-align: right;\">\n",
       "      <th></th>\n",
       "      <th>Severity</th>\n",
       "      <th>Start_Lat</th>\n",
       "      <th>Start_Lng</th>\n",
       "      <th>End_Lat</th>\n",
       "      <th>End_Lng</th>\n",
       "      <th>Distance(mi)</th>\n",
       "      <th>Number</th>\n",
       "      <th>Temperature(F)</th>\n",
       "      <th>Wind_Chill(F)</th>\n",
       "      <th>Humidity(%)</th>\n",
       "      <th>Pressure(in)</th>\n",
       "      <th>Visibility(mi)</th>\n",
       "      <th>Wind_Speed(mph)</th>\n",
       "      <th>Precipitation(in)</th>\n",
       "    </tr>\n",
       "  </thead>\n",
       "  <tbody>\n",
       "    <tr>\n",
       "      <th>count</th>\n",
       "      <td>1.516064e+06</td>\n",
       "      <td>1.516064e+06</td>\n",
       "      <td>1.516064e+06</td>\n",
       "      <td>1.516064e+06</td>\n",
       "      <td>1.516064e+06</td>\n",
       "      <td>1.516064e+06</td>\n",
       "      <td>4.699690e+05</td>\n",
       "      <td>1.473031e+06</td>\n",
       "      <td>1.066748e+06</td>\n",
       "      <td>1.470555e+06</td>\n",
       "      <td>1.479790e+06</td>\n",
       "      <td>1.471853e+06</td>\n",
       "      <td>1.387202e+06</td>\n",
       "      <td>1.005515e+06</td>\n",
       "    </tr>\n",
       "    <tr>\n",
       "      <th>mean</th>\n",
       "      <td>2.238630e+00</td>\n",
       "      <td>3.690056e+01</td>\n",
       "      <td>-9.859919e+01</td>\n",
       "      <td>3.690061e+01</td>\n",
       "      <td>-9.859901e+01</td>\n",
       "      <td>5.872617e-01</td>\n",
       "      <td>8.907533e+03</td>\n",
       "      <td>5.958460e+01</td>\n",
       "      <td>5.510976e+01</td>\n",
       "      <td>6.465960e+01</td>\n",
       "      <td>2.955495e+01</td>\n",
       "      <td>9.131755e+00</td>\n",
       "      <td>7.630812e+00</td>\n",
       "      <td>8.477855e-03</td>\n",
       "    </tr>\n",
       "    <tr>\n",
       "      <th>std</th>\n",
       "      <td>6.081481e-01</td>\n",
       "      <td>5.165653e+00</td>\n",
       "      <td>1.849602e+01</td>\n",
       "      <td>5.165629e+00</td>\n",
       "      <td>1.849590e+01</td>\n",
       "      <td>1.632659e+00</td>\n",
       "      <td>2.242190e+04</td>\n",
       "      <td>1.827316e+01</td>\n",
       "      <td>2.112735e+01</td>\n",
       "      <td>2.325986e+01</td>\n",
       "      <td>1.016756e+00</td>\n",
       "      <td>2.889112e+00</td>\n",
       "      <td>5.637364e+00</td>\n",
       "      <td>1.293168e-01</td>\n",
       "    </tr>\n",
       "    <tr>\n",
       "      <th>min</th>\n",
       "      <td>1.000000e+00</td>\n",
       "      <td>2.457022e+01</td>\n",
       "      <td>-1.244976e+02</td>\n",
       "      <td>2.457011e+01</td>\n",
       "      <td>-1.244978e+02</td>\n",
       "      <td>0.000000e+00</td>\n",
       "      <td>0.000000e+00</td>\n",
       "      <td>-8.900000e+01</td>\n",
       "      <td>-8.900000e+01</td>\n",
       "      <td>1.000000e+00</td>\n",
       "      <td>0.000000e+00</td>\n",
       "      <td>0.000000e+00</td>\n",
       "      <td>0.000000e+00</td>\n",
       "      <td>0.000000e+00</td>\n",
       "    </tr>\n",
       "    <tr>\n",
       "      <th>25%</th>\n",
       "      <td>2.000000e+00</td>\n",
       "      <td>3.385422e+01</td>\n",
       "      <td>-1.182076e+02</td>\n",
       "      <td>3.385420e+01</td>\n",
       "      <td>-1.182077e+02</td>\n",
       "      <td>0.000000e+00</td>\n",
       "      <td>1.212000e+03</td>\n",
       "      <td>4.700000e+01</td>\n",
       "      <td>4.080000e+01</td>\n",
       "      <td>4.800000e+01</td>\n",
       "      <td>2.944000e+01</td>\n",
       "      <td>1.000000e+01</td>\n",
       "      <td>4.600000e+00</td>\n",
       "      <td>0.000000e+00</td>\n",
       "    </tr>\n",
       "    <tr>\n",
       "      <th>50%</th>\n",
       "      <td>2.000000e+00</td>\n",
       "      <td>3.735113e+01</td>\n",
       "      <td>-9.438100e+01</td>\n",
       "      <td>3.735134e+01</td>\n",
       "      <td>-9.437987e+01</td>\n",
       "      <td>1.780000e-01</td>\n",
       "      <td>4.000000e+03</td>\n",
       "      <td>6.100000e+01</td>\n",
       "      <td>5.700000e+01</td>\n",
       "      <td>6.800000e+01</td>\n",
       "      <td>2.988000e+01</td>\n",
       "      <td>1.000000e+01</td>\n",
       "      <td>7.000000e+00</td>\n",
       "      <td>0.000000e+00</td>\n",
       "    </tr>\n",
       "    <tr>\n",
       "      <th>75%</th>\n",
       "      <td>2.000000e+00</td>\n",
       "      <td>4.072593e+01</td>\n",
       "      <td>-8.087469e+01</td>\n",
       "      <td>4.072593e+01</td>\n",
       "      <td>-8.087449e+01</td>\n",
       "      <td>5.940000e-01</td>\n",
       "      <td>1.010000e+04</td>\n",
       "      <td>7.300000e+01</td>\n",
       "      <td>7.100000e+01</td>\n",
       "      <td>8.400000e+01</td>\n",
       "      <td>3.004000e+01</td>\n",
       "      <td>1.000000e+01</td>\n",
       "      <td>1.040000e+01</td>\n",
       "      <td>0.000000e+00</td>\n",
       "    </tr>\n",
       "    <tr>\n",
       "      <th>max</th>\n",
       "      <td>4.000000e+00</td>\n",
       "      <td>4.900058e+01</td>\n",
       "      <td>-6.711317e+01</td>\n",
       "      <td>4.907500e+01</td>\n",
       "      <td>-6.710924e+01</td>\n",
       "      <td>1.551860e+02</td>\n",
       "      <td>9.999997e+06</td>\n",
       "      <td>1.706000e+02</td>\n",
       "      <td>1.130000e+02</td>\n",
       "      <td>1.000000e+02</td>\n",
       "      <td>5.804000e+01</td>\n",
       "      <td>1.400000e+02</td>\n",
       "      <td>9.840000e+02</td>\n",
       "      <td>2.400000e+01</td>\n",
       "    </tr>\n",
       "  </tbody>\n",
       "</table>\n",
       "</div>"
      ],
      "text/plain": [
       "           Severity     Start_Lat     Start_Lng       End_Lat       End_Lng  \\\n",
       "count  1.516064e+06  1.516064e+06  1.516064e+06  1.516064e+06  1.516064e+06   \n",
       "mean   2.238630e+00  3.690056e+01 -9.859919e+01  3.690061e+01 -9.859901e+01   \n",
       "std    6.081481e-01  5.165653e+00  1.849602e+01  5.165629e+00  1.849590e+01   \n",
       "min    1.000000e+00  2.457022e+01 -1.244976e+02  2.457011e+01 -1.244978e+02   \n",
       "25%    2.000000e+00  3.385422e+01 -1.182076e+02  3.385420e+01 -1.182077e+02   \n",
       "50%    2.000000e+00  3.735113e+01 -9.438100e+01  3.735134e+01 -9.437987e+01   \n",
       "75%    2.000000e+00  4.072593e+01 -8.087469e+01  4.072593e+01 -8.087449e+01   \n",
       "max    4.000000e+00  4.900058e+01 -6.711317e+01  4.907500e+01 -6.710924e+01   \n",
       "\n",
       "       Distance(mi)        Number  Temperature(F)  Wind_Chill(F)  \\\n",
       "count  1.516064e+06  4.699690e+05    1.473031e+06   1.066748e+06   \n",
       "mean   5.872617e-01  8.907533e+03    5.958460e+01   5.510976e+01   \n",
       "std    1.632659e+00  2.242190e+04    1.827316e+01   2.112735e+01   \n",
       "min    0.000000e+00  0.000000e+00   -8.900000e+01  -8.900000e+01   \n",
       "25%    0.000000e+00  1.212000e+03    4.700000e+01   4.080000e+01   \n",
       "50%    1.780000e-01  4.000000e+03    6.100000e+01   5.700000e+01   \n",
       "75%    5.940000e-01  1.010000e+04    7.300000e+01   7.100000e+01   \n",
       "max    1.551860e+02  9.999997e+06    1.706000e+02   1.130000e+02   \n",
       "\n",
       "        Humidity(%)  Pressure(in)  Visibility(mi)  Wind_Speed(mph)  \\\n",
       "count  1.470555e+06  1.479790e+06    1.471853e+06     1.387202e+06   \n",
       "mean   6.465960e+01  2.955495e+01    9.131755e+00     7.630812e+00   \n",
       "std    2.325986e+01  1.016756e+00    2.889112e+00     5.637364e+00   \n",
       "min    1.000000e+00  0.000000e+00    0.000000e+00     0.000000e+00   \n",
       "25%    4.800000e+01  2.944000e+01    1.000000e+01     4.600000e+00   \n",
       "50%    6.800000e+01  2.988000e+01    1.000000e+01     7.000000e+00   \n",
       "75%    8.400000e+01  3.004000e+01    1.000000e+01     1.040000e+01   \n",
       "max    1.000000e+02  5.804000e+01    1.400000e+02     9.840000e+02   \n",
       "\n",
       "       Precipitation(in)  \n",
       "count       1.005515e+06  \n",
       "mean        8.477855e-03  \n",
       "std         1.293168e-01  \n",
       "min         0.000000e+00  \n",
       "25%         0.000000e+00  \n",
       "50%         0.000000e+00  \n",
       "75%         0.000000e+00  \n",
       "max         2.400000e+01  "
      ]
     },
     "execution_count": 6,
     "metadata": {},
     "output_type": "execute_result"
    }
   ],
   "source": [
    "US_data.describe()"
   ]
  },
  {
   "cell_type": "markdown",
   "id": "b4f27a4f",
   "metadata": {},
   "source": [
    "###  highest Temperature is 17 degree faranheat.\n",
    "\n",
    "### lowest Temperature is -89  degree faranheat.\n",
    "\n",
    "\n"
   ]
  },
  {
   "cell_type": "code",
   "execution_count": 7,
   "id": "866c2c8a",
   "metadata": {},
   "outputs": [
    {
     "data": {
      "text/plain": [
       "14"
      ]
     },
     "execution_count": 7,
     "metadata": {},
     "output_type": "execute_result"
    }
   ],
   "source": [
    "numerics = ['int16', 'int32', 'int64', 'float16', 'float32', 'float64']\n",
    "\n",
    "numeric_df = US_data.select_dtypes(include=numerics)\n",
    "len(numeric_df.columns)"
   ]
  },
  {
   "cell_type": "markdown",
   "id": "fe0ea77e",
   "metadata": {},
   "source": [
    "#### Percentage of missing values per column"
   ]
  },
  {
   "cell_type": "code",
   "execution_count": 8,
   "id": "4269aff5",
   "metadata": {},
   "outputs": [
    {
     "data": {
      "text/plain": [
       "Number                   0.690007\n",
       "Precipitation(in)        0.336760\n",
       "Wind_Chill(F)            0.296370\n",
       "Wind_Speed(mph)          0.084998\n",
       "Humidity(%)              0.030018\n",
       "Visibility(mi)           0.029162\n",
       "Weather_Condition        0.029027\n",
       "Temperature(F)           0.028385\n",
       "Wind_Direction           0.027610\n",
       "Pressure(in)             0.023926\n",
       "Weather_Timestamp        0.019962\n",
       "Airport_Code             0.002802\n",
       "Timezone                 0.001518\n",
       "Zipcode                  0.000617\n",
       "Sunrise_Sunset           0.000055\n",
       "Civil_Twilight           0.000055\n",
       "Nautical_Twilight        0.000055\n",
       "Astronomical_Twilight    0.000055\n",
       "City                     0.000055\n",
       "Country                  0.000000\n",
       "Give_Way                 0.000000\n",
       "Start_Time               0.000000\n",
       "End_Time                 0.000000\n",
       "Start_Lat                0.000000\n",
       "Turning_Loop             0.000000\n",
       "Traffic_Signal           0.000000\n",
       "Traffic_Calming          0.000000\n",
       "Stop                     0.000000\n",
       "Station                  0.000000\n",
       "Roundabout               0.000000\n",
       "Railway                  0.000000\n",
       "No_Exit                  0.000000\n",
       "Junction                 0.000000\n",
       "Crossing                 0.000000\n",
       "State                    0.000000\n",
       "Bump                     0.000000\n",
       "Amenity                  0.000000\n",
       "Start_Lng                0.000000\n",
       "End_Lat                  0.000000\n",
       "End_Lng                  0.000000\n",
       "Distance(mi)             0.000000\n",
       "Description              0.000000\n",
       "Street                   0.000000\n",
       "Severity                 0.000000\n",
       "Side                     0.000000\n",
       "County                   0.000000\n",
       "ID                       0.000000\n",
       "dtype: float64"
      ]
     },
     "execution_count": 8,
     "metadata": {},
     "output_type": "execute_result"
    }
   ],
   "source": [
    "missing_values =US_data.isna().sum().sort_values(ascending=False)/ len(US_data)\n",
    "missing_values"
   ]
  },
  {
   "cell_type": "code",
   "execution_count": 9,
   "id": "2a5c700e",
   "metadata": {},
   "outputs": [
    {
     "data": {
      "text/plain": [
       "0.6900071500939274"
      ]
     },
     "execution_count": 9,
     "metadata": {},
     "output_type": "execute_result"
    }
   ],
   "source": [
    "max(missing_values)"
   ]
  },
  {
   "cell_type": "code",
   "execution_count": 10,
   "id": "ba8e5502",
   "metadata": {},
   "outputs": [
    {
     "data": {
      "text/plain": [
       "pandas.core.series.Series"
      ]
     },
     "execution_count": 10,
     "metadata": {},
     "output_type": "execute_result"
    }
   ],
   "source": [
    "type(missing_values)"
   ]
  },
  {
   "cell_type": "code",
   "execution_count": 11,
   "id": "5464bf1d",
   "metadata": {},
   "outputs": [
    {
     "data": {
      "text/plain": [
       "<AxesSubplot:>"
      ]
     },
     "execution_count": 11,
     "metadata": {},
     "output_type": "execute_result"
    },
    {
     "data": {
      "image/png": "[encoded data removed]",
      "text/plain": [
       "<Figure size 432x288 with 1 Axes>"
      ]
     },
     "metadata": {
      "needs_background": "light"
     },
     "output_type": "display_data"
    }
   ],
   "source": [
    "missing_values[missing_values != 0].plot(kind='barh')"
   ]
  },
  {
   "cell_type": "code",
   "execution_count": 12,
   "id": "f1c0a0a4",
   "metadata": {},
   "outputs": [
    {
     "data": {
      "text/plain": [
       "Index(['ID', 'Severity', 'Start_Time', 'End_Time', 'Start_Lat', 'Start_Lng',\n",
       "       'End_Lat', 'End_Lng', 'Distance(mi)', 'Description', 'Number', 'Street',\n",
       "       'Side', 'City', 'County', 'State', 'Zipcode', 'Country', 'Timezone',\n",
       "       'Airport_Code', 'Weather_Timestamp', 'Temperature(F)', 'Wind_Chill(F)',\n",
       "       'Humidity(%)', 'Pressure(in)', 'Visibility(mi)', 'Wind_Direction',\n",
       "       'Wind_Speed(mph)', 'Precipitation(in)', 'Weather_Condition', 'Amenity',\n",
       "       'Bump', 'Crossing', 'Give_Way', 'Junction', 'No_Exit', 'Railway',\n",
       "       'Roundabout', 'Station', 'Stop', 'Traffic_Calming', 'Traffic_Signal',\n",
       "       'Turning_Loop', 'Sunrise_Sunset', 'Civil_Twilight', 'Nautical_Twilight',\n",
       "       'Astronomical_Twilight'],\n",
       "      dtype='object')"
      ]
     },
     "execution_count": 12,
     "metadata": {},
     "output_type": "execute_result"
    }
   ],
   "source": [
    "US_data.columns"
   ]
  },
  {
   "cell_type": "code",
   "execution_count": 13,
   "id": "c51932c2",
   "metadata": {},
   "outputs": [
    {
     "data": {
      "text/plain": [
       "47"
      ]
     },
     "execution_count": 13,
     "metadata": {},
     "output_type": "execute_result"
    }
   ],
   "source": [
    "len(US_data.columns)"
   ]
  },
  {
   "cell_type": "code",
   "execution_count": 14,
   "id": "dd1756a1",
   "metadata": {},
   "outputs": [
    {
     "data": {
      "text/plain": [
       "array(['US'], dtype=object)"
      ]
     },
     "execution_count": 14,
     "metadata": {},
     "output_type": "execute_result"
    }
   ],
   "source": [
    "US_data.Country.unique()"
   ]
  },
  {
   "cell_type": "markdown",
   "id": "1e62d677",
   "metadata": {},
   "source": [
    "### 47 Columns "
   ]
  },
  {
   "cell_type": "markdown",
   "id": "58cbec09",
   "metadata": {},
   "source": [
    "## Exploratory  Analysis and Visualization"
   ]
  },
  {
   "cell_type": "markdown",
   "id": "b5002281",
   "metadata": {},
   "source": [
    " ### Columns we will analyze:\n",
    "________________________________________\n",
    "1. City\n",
    "\n",
    "2. Start time\n",
    "\n",
    "3. Start Lat, Start Long\n",
    "\n",
    "4. Temperature\n",
    "\n",
    "5. Weather_Condition\n",
    "\n",
    "    "
   ]
  },
  {
   "cell_type": "code",
   "execution_count": 15,
   "id": "5d26f478",
   "metadata": {},
   "outputs": [
    {
     "data": {
      "text/plain": [
       "0               Dublin\n",
       "1               Dayton\n",
       "2           Cincinnati\n",
       "3           Cincinnati\n",
       "4                Akron\n",
       "              ...     \n",
       "1516059      Riverside\n",
       "1516060      San Diego\n",
       "1516061         Orange\n",
       "1516062    Culver City\n",
       "1516063       Highland\n",
       "Name: City, Length: 1516064, dtype: object"
      ]
     },
     "execution_count": 15,
     "metadata": {},
     "output_type": "execute_result"
    }
   ],
   "source": [
    "US_data.City"
   ]
  },
  {
   "cell_type": "code",
   "execution_count": 16,
   "id": "b39cb598",
   "metadata": {},
   "outputs": [
    {
     "data": {
      "text/plain": [
       "array(['Dublin', 'Dayton', 'Cincinnati', ..., 'Succasunna', 'Valleyford',\n",
       "       'American Fork-Pleasant Grove'], dtype=object)"
      ]
     },
     "execution_count": 16,
     "metadata": {},
     "output_type": "execute_result"
    }
   ],
   "source": [
    "US_data.City.unique()"
   ]
  },
  {
   "cell_type": "code",
   "execution_count": 17,
   "id": "8ad3abbd",
   "metadata": {},
   "outputs": [
    {
     "data": {
      "text/plain": [
       "10658"
      ]
     },
     "execution_count": 17,
     "metadata": {},
     "output_type": "execute_result"
    }
   ],
   "source": [
    "unique_cities = US_data.City.unique()\n",
    "len(unique_cities)                                                 ### no of cities present in US"
   ]
  },
  {
   "cell_type": "code",
   "execution_count": 18,
   "id": "914a84df",
   "metadata": {},
   "outputs": [
    {
     "data": {
      "text/plain": [
       "Los Angeles    39984\n",
       "Miami          36233\n",
       "Charlotte      22203\n",
       "Houston        20843\n",
       "Dallas         19497\n",
       "               ...  \n",
       "Fulshear           1\n",
       "Nespelem           1\n",
       "Dovray             1\n",
       "Searsmont          1\n",
       "Pewamo             1\n",
       "Name: City, Length: 10657, dtype: int64"
      ]
     },
     "execution_count": 18,
     "metadata": {},
     "output_type": "execute_result"
    }
   ],
   "source": [
    "cities_by_accident = US_data.City.value_counts()\n",
    "cities_by_accident"
   ]
  },
  {
   "cell_type": "code",
   "execution_count": 19,
   "id": "37e2dca8",
   "metadata": {},
   "outputs": [
    {
     "data": {
      "text/plain": [
       "Los Angeles     39984\n",
       "Miami           36233\n",
       "Charlotte       22203\n",
       "Houston         20843\n",
       "Dallas          19497\n",
       "Sacramento      18431\n",
       "Orlando         16169\n",
       "Portland        14805\n",
       "San Diego       14090\n",
       "Minneapolis     12653\n",
       "Atlanta         11854\n",
       "Chicago         11507\n",
       "Saint Paul      10084\n",
       "Phoenix          9934\n",
       "Raleigh          9516\n",
       "San Jose         9362\n",
       "Richmond         8472\n",
       "Nashville        8381\n",
       "Riverside        8201\n",
       "Jacksonville     7815\n",
       "Name: City, dtype: int64"
      ]
     },
     "execution_count": 19,
     "metadata": {},
     "output_type": "execute_result"
    }
   ],
   "source": [
    "cities_by_accident[:20]\n"
   ]
  },
  {
   "cell_type": "code",
   "execution_count": 20,
   "id": "ae57bd24",
   "metadata": {},
   "outputs": [
    {
     "data": {
      "text/plain": [
       "False"
      ]
     },
     "execution_count": 20,
     "metadata": {},
     "output_type": "execute_result"
    }
   ],
   "source": [
    "'New York' in US_data.State              ## check the new york present in the dataset or not"
   ]
  },
  {
   "cell_type": "code",
   "execution_count": 21,
   "id": "a3ea1b0c",
   "metadata": {},
   "outputs": [
    {
     "data": {
      "text/plain": [
       "49"
      ]
     },
     "execution_count": 21,
     "metadata": {},
     "output_type": "execute_result"
    }
   ],
   "source": [
    "states_of_us=US_data.State.unique()            ## length of states of US\n",
    "len(states_of_us)"
   ]
  },
  {
   "cell_type": "code",
   "execution_count": 22,
   "id": "90ac606d",
   "metadata": {},
   "outputs": [
    {
     "data": {
      "text/plain": [
       "CA    448833\n",
       "FL    153007\n",
       "OR     87484\n",
       "TX     75142\n",
       "NY     60974\n",
       "MN     52345\n",
       "VA     51198\n",
       "NC     50159\n",
       "PA     42844\n",
       "IL     41709\n",
       "MD     35320\n",
       "UT     33218\n",
       "GA     31111\n",
       "AZ     30185\n",
       "NJ     29850\n",
       "SC     28090\n",
       "MI     27775\n",
       "WA     22999\n",
       "OH     22044\n",
       "TN     21874\n",
       "CO     19809\n",
       "LA     19250\n",
       "MO     16949\n",
       "CT     15194\n",
       "IN     11736\n",
       "AL      9375\n",
       "WI      7919\n",
       "MA      6121\n",
       "KY      5671\n",
       "OK      5592\n",
       "KS      5146\n",
       "IA      4780\n",
       "AR      4373\n",
       "ID      4061\n",
       "NH      3826\n",
       "DC      3788\n",
       "RI      3766\n",
       "NV      3681\n",
       "MT      3306\n",
       "WV      3242\n",
       "MS      2790\n",
       "DE      2331\n",
       "ME      2202\n",
       "NE      2178\n",
       "NM      1467\n",
       "ND       455\n",
       "VT       352\n",
       "WY       330\n",
       "SD       213\n",
       "Name: State, dtype: int64"
      ]
     },
     "execution_count": 22,
     "metadata": {},
     "output_type": "execute_result"
    }
   ],
   "source": [
    "States_by_accidents=US_data.State.value_counts()\n",
    "States_by_accidents"
   ]
  },
  {
   "cell_type": "code",
   "execution_count": 23,
   "id": "2a366712",
   "metadata": {},
   "outputs": [
    {
     "data": {
      "image/png": "[encoded data removed]",
      "text/plain": [
       "<Figure size 432x288 with 1 Axes>"
      ]
     },
     "metadata": {
      "needs_background": "light"
     },
     "output_type": "display_data"
    }
   ],
   "source": [
    "States_by_accidents[:20].plot(kind='barh')\n",
    "sns.set_style(\"darkgrid\")"
   ]
  },
  {
   "cell_type": "markdown",
   "id": "0db2006a",
   "metadata": {},
   "source": [
    "###  california state accidents is very high as compared to other states\n",
    "\n",
    "#### CA(California)  - 4,48,833\n",
    "#### FL(Florida)       - 1,53,007\n",
    "#### OR(Oregon)     - 87,484\n",
    "#### TX(Texas)         - 75,142\n"
   ]
  },
  {
   "cell_type": "code",
   "execution_count": 24,
   "id": "444a8afe",
   "metadata": {},
   "outputs": [
    {
     "data": {
      "text/plain": [
       "array(['US'], dtype=object)"
      ]
     },
     "execution_count": 24,
     "metadata": {},
     "output_type": "execute_result"
    }
   ],
   "source": [
    "US_data.Country.unique()"
   ]
  },
  {
   "cell_type": "markdown",
   "id": "79569b19",
   "metadata": {},
   "source": [
    "### 49 States Records Presented in this Dataset"
   ]
  },
  {
   "cell_type": "code",
   "execution_count": 25,
   "id": "f93d850a",
   "metadata": {},
   "outputs": [
    {
     "data": {
      "image/png": "[encoded data removed]",
      "text/plain": [
       "<Figure size 432x288 with 1 Axes>"
      ]
     },
     "metadata": {},
     "output_type": "display_data"
    }
   ],
   "source": [
    "cities_by_accident[:20].plot(kind='barh')\n",
    "sns.set_style(\"darkgrid\")"
   ]
  },
  {
   "cell_type": "code",
   "execution_count": 26,
   "id": "81e37639",
   "metadata": {},
   "outputs": [],
   "source": [
    "sns.set_style(\"darkgrid\")"
   ]
  },
  {
   "cell_type": "code",
   "execution_count": 27,
   "id": "01aeca1d",
   "metadata": {},
   "outputs": [
    {
     "data": {
      "image/png": "[encoded data removed]",
      "text/plain": [
       "<Figure size 432x288 with 1 Axes>"
      ]
     },
     "metadata": {},
     "output_type": "display_data"
    }
   ],
   "source": [
    "sns.histplot(cities_by_accident,log_scale=True)\n",
    "plt.show()"
   ]
  },
  {
   "cell_type": "markdown",
   "id": "78bdc0ff",
   "metadata": {},
   "source": [
    "###  Here we can see that most of the accidents were happened between 0 to 100 accidents"
   ]
  },
  {
   "cell_type": "code",
   "execution_count": 28,
   "id": "335ec747",
   "metadata": {},
   "outputs": [],
   "source": [
    "high_accident_cities=cities_by_accident[cities_by_accident >= 1000]\n",
    "low_accident_cities=cities_by_accident[cities_by_accident < 1000]"
   ]
  },
  {
   "cell_type": "code",
   "execution_count": 29,
   "id": "02d3946c",
   "metadata": {},
   "outputs": [
    {
     "data": {
      "text/plain": [
       "0.02355259453880079"
      ]
     },
     "execution_count": 29,
     "metadata": {},
     "output_type": "execute_result"
    }
   ],
   "source": [
    "len(high_accident_cities)/len(cities_by_accident)"
   ]
  },
  {
   "cell_type": "code",
   "execution_count": 30,
   "id": "2bc81264",
   "metadata": {},
   "outputs": [
    {
     "data": {
      "text/plain": [
       "0.9764474054611992"
      ]
     },
     "execution_count": 30,
     "metadata": {},
     "output_type": "execute_result"
    }
   ],
   "source": [
    "len(low_accident_cities)/len(cities_by_accident)"
   ]
  },
  {
   "cell_type": "code",
   "execution_count": 31,
   "id": "7dad9313",
   "metadata": {},
   "outputs": [
    {
     "name": "stderr",
     "output_type": "stream",
     "text": [
      "C:\\Users\\NIVETHA\\anaconda3\\lib\\site-packages\\seaborn\\distributions.py:2557: FutureWarning: `distplot` is a deprecated function and will be removed in a future version. Please adapt your code to use either `displot` (a figure-level function with similar flexibility) or `histplot` (an axes-level function for histograms).\n",
      "  warnings.warn(msg, FutureWarning)\n"
     ]
    },
    {
     "data": {
      "text/plain": [
       "<AxesSubplot:xlabel='City', ylabel='Density'>"
      ]
     },
     "execution_count": 31,
     "metadata": {},
     "output_type": "execute_result"
    },
    {
     "data": {
      "image/png": "[encoded data removed]",
      "text/plain": [
       "<Figure size 432x288 with 1 Axes>"
      ]
     },
     "metadata": {},
     "output_type": "display_data"
    }
   ],
   "source": [
    "sns.distplot(high_accident_cities)"
   ]
  },
  {
   "cell_type": "code",
   "execution_count": 32,
   "id": "83fcde22",
   "metadata": {},
   "outputs": [
    {
     "name": "stderr",
     "output_type": "stream",
     "text": [
      "C:\\Users\\NIVETHA\\anaconda3\\lib\\site-packages\\seaborn\\distributions.py:2557: FutureWarning: `distplot` is a deprecated function and will be removed in a future version. Please adapt your code to use either `displot` (a figure-level function with similar flexibility) or `histplot` (an axes-level function for histograms).\n",
      "  warnings.warn(msg, FutureWarning)\n"
     ]
    },
    {
     "data": {
      "text/plain": [
       "<AxesSubplot:xlabel='City', ylabel='Density'>"
      ]
     },
     "execution_count": 32,
     "metadata": {},
     "output_type": "execute_result"
    },
    {
     "data": {
      "image/png": "[encoded data removed]",
      "text/plain": [
       "<Figure size 432x288 with 1 Axes>"
      ]
     },
     "metadata": {},
     "output_type": "display_data"
    }
   ],
   "source": [
    "sns.distplot(low_accident_cities)"
   ]
  },
  {
   "cell_type": "code",
   "execution_count": 33,
   "id": "653d2e0b",
   "metadata": {},
   "outputs": [
    {
     "data": {
      "text/plain": [
       "1167"
      ]
     },
     "execution_count": 33,
     "metadata": {},
     "output_type": "execute_result"
    }
   ],
   "source": [
    "b=cities_by_accident[cities_by_accident == 1]                  #### Over 1167 cities have reported just one accident\n",
    "len(b)"
   ]
  },
  {
   "cell_type": "code",
   "execution_count": 34,
   "id": "c6cea9cf",
   "metadata": {},
   "outputs": [
    {
     "data": {
      "text/plain": [
       "0          2016-02-08 00:37:08\n",
       "1          2016-02-08 05:56:20\n",
       "2          2016-02-08 06:15:39\n",
       "3          2016-02-08 06:15:39\n",
       "4          2016-02-08 06:51:45\n",
       "                  ...         \n",
       "1516059    2019-08-23 18:03:25\n",
       "1516060    2019-08-23 19:11:30\n",
       "1516061    2019-08-23 19:00:21\n",
       "1516062    2019-08-23 19:00:21\n",
       "1516063    2019-08-23 18:52:06\n",
       "Name: Start_Time, Length: 1516064, dtype: object"
      ]
     },
     "execution_count": 34,
     "metadata": {},
     "output_type": "execute_result"
    }
   ],
   "source": [
    "US_data.Start_Time"
   ]
  },
  {
   "cell_type": "code",
   "execution_count": 35,
   "id": "d48e5211",
   "metadata": {},
   "outputs": [
    {
     "data": {
      "text/plain": [
       "'2016-02-08 00:37:08'"
      ]
     },
     "execution_count": 35,
     "metadata": {},
     "output_type": "execute_result"
    }
   ],
   "source": [
    "US_data.Start_Time[0]             "
   ]
  },
  {
   "cell_type": "code",
   "execution_count": 36,
   "id": "1794a9da",
   "metadata": {},
   "outputs": [],
   "source": [
    "US_data.Start_Time = pd.to_datetime(US_data.Start_Time)"
   ]
  },
  {
   "cell_type": "code",
   "execution_count": 37,
   "id": "c7dea25c",
   "metadata": {},
   "outputs": [
    {
     "data": {
      "text/plain": [
       "0           0\n",
       "1           5\n",
       "2           6\n",
       "3           6\n",
       "4           6\n",
       "           ..\n",
       "1516059    18\n",
       "1516060    19\n",
       "1516061    19\n",
       "1516062    19\n",
       "1516063    18\n",
       "Name: Start_Time, Length: 1516064, dtype: int64"
      ]
     },
     "execution_count": 37,
     "metadata": {},
     "output_type": "execute_result"
    }
   ],
   "source": [
    "US_data.Start_Time.dt.hour"
   ]
  },
  {
   "cell_type": "code",
   "execution_count": 38,
   "id": "27ef027b",
   "metadata": {},
   "outputs": [
    {
     "name": "stderr",
     "output_type": "stream",
     "text": [
      "C:\\Users\\NIVETHA\\anaconda3\\lib\\site-packages\\seaborn\\distributions.py:2557: FutureWarning: `distplot` is a deprecated function and will be removed in a future version. Please adapt your code to use either `displot` (a figure-level function with similar flexibility) or `histplot` (an axes-level function for histograms).\n",
      "  warnings.warn(msg, FutureWarning)\n"
     ]
    },
    {
     "data": {
      "text/plain": [
       "<AxesSubplot:xlabel='Start_Time'>"
      ]
     },
     "execution_count": 38,
     "metadata": {},
     "output_type": "execute_result"
    },
    {
     "data": {
      "image/png": "[encoded data removed]",
      "text/plain": [
       "<Figure size 432x288 with 1 Axes>"
      ]
     },
     "metadata": {},
     "output_type": "display_data"
    }
   ],
   "source": [
    "sns.distplot(US_data.Start_Time.dt.hour,bins=24,kde=False,norm_hist=True)\n"
   ]
  },
  {
   "cell_type": "markdown",
   "id": "cfa91696",
   "metadata": {},
   "source": [
    "##### A high percentage of accidents occur between 12 pm to 4 pm , Next higest percentage is 5 am to 6 am (probaly people hurry to get to work)."
   ]
  },
  {
   "cell_type": "code",
   "execution_count": 39,
   "id": "4dfa2983",
   "metadata": {},
   "outputs": [
    {
     "data": {
      "text/plain": [
       "<AxesSubplot:xlabel='Start_Time'>"
      ]
     },
     "execution_count": 39,
     "metadata": {},
     "output_type": "execute_result"
    },
    {
     "data": {
      "image/png": "[encoded data removed]",
      "text/plain": [
       "<Figure size 432x288 with 1 Axes>"
      ]
     },
     "metadata": {},
     "output_type": "display_data"
    }
   ],
   "source": [
    "sns.distplot(US_data.Start_Time.dt.dayofweek, bins=7, kde=False,color=\"g\",norm_hist=True)"
   ]
  },
  {
   "cell_type": "code",
   "execution_count": 40,
   "id": "8dff720b",
   "metadata": {},
   "outputs": [
    {
     "name": "stderr",
     "output_type": "stream",
     "text": [
      "C:\\Users\\NIVETHA\\anaconda3\\lib\\site-packages\\seaborn\\distributions.py:2557: FutureWarning: `distplot` is a deprecated function and will be removed in a future version. Please adapt your code to use either `displot` (a figure-level function with similar flexibility) or `histplot` (an axes-level function for histograms).\n",
      "  warnings.warn(msg, FutureWarning)\n"
     ]
    },
    {
     "data": {
      "text/plain": [
       "<AxesSubplot:xlabel='Start_Time'>"
      ]
     },
     "execution_count": 40,
     "metadata": {},
     "output_type": "execute_result"
    },
    {
     "data": {
      "image/png": "[encoded data removed]",
      "text/plain": [
       "<Figure size 432x288 with 1 Axes>"
      ]
     },
     "metadata": {},
     "output_type": "display_data"
    }
   ],
   "source": [
    "sundays_start_time = US_data.Start_Time[ US_data.Start_Time.dt.dayofweek == 6]\n",
    "sns.distplot(sundays_start_time.dt.hour, bins=24, kde=False, norm_hist=True)"
   ]
  },
  {
   "cell_type": "code",
   "execution_count": 41,
   "id": "48b115d8",
   "metadata": {},
   "outputs": [
    {
     "name": "stderr",
     "output_type": "stream",
     "text": [
      "C:\\Users\\NIVETHA\\anaconda3\\lib\\site-packages\\seaborn\\distributions.py:2557: FutureWarning: `distplot` is a deprecated function and will be removed in a future version. Please adapt your code to use either `displot` (a figure-level function with similar flexibility) or `histplot` (an axes-level function for histograms).\n",
      "  warnings.warn(msg, FutureWarning)\n"
     ]
    },
    {
     "data": {
      "text/plain": [
       "<AxesSubplot:xlabel='Start_Time'>"
      ]
     },
     "execution_count": 41,
     "metadata": {},
     "output_type": "execute_result"
    },
    {
     "data": {
      "image/png": "[encoded data removed]",
      "text/plain": [
       "<Figure size 432x288 with 1 Axes>"
      ]
     },
     "metadata": {},
     "output_type": "display_data"
    }
   ],
   "source": [
    "monday_start_time = US_data.Start_Time[US_data.Start_Time.dt.dayofweek == 0]\n",
    "sns.distplot(monday_start_time.dt.hour, bins=24, kde=False, norm_hist=True)"
   ]
  },
  {
   "cell_type": "code",
   "execution_count": 42,
   "id": "2cae413f",
   "metadata": {},
   "outputs": [
    {
     "data": {
      "text/plain": [
       "<AxesSubplot:xlabel='Start_Time'>"
      ]
     },
     "execution_count": 42,
     "metadata": {},
     "output_type": "execute_result"
    },
    {
     "data": {
      "image/png": "[encoded data removed]",
      "text/plain": [
       "<Figure size 432x288 with 1 Axes>"
      ]
     },
     "metadata": {},
     "output_type": "display_data"
    }
   ],
   "source": [
    "sns.distplot(monday_start_time.dt.month,bins=12,kde=False,norm_hist=True)"
   ]
  },
  {
   "cell_type": "code",
   "execution_count": 43,
   "id": "3fef7026",
   "metadata": {},
   "outputs": [
    {
     "data": {
      "text/plain": [
       "<AxesSubplot:xlabel='Start_Time'>"
      ]
     },
     "execution_count": 43,
     "metadata": {},
     "output_type": "execute_result"
    },
    {
     "data": {
      "image/png": "[encoded data removed]",
      "text/plain": [
       "<Figure size 432x288 with 1 Axes>"
      ]
     },
     "metadata": {},
     "output_type": "display_data"
    }
   ],
   "source": [
    "sns.distplot(monday_start_time.dt.hour,bins=12,kde=False,norm_hist=True)"
   ]
  },
  {
   "cell_type": "code",
   "execution_count": 44,
   "id": "dd1c5ebd",
   "metadata": {},
   "outputs": [
    {
     "data": {
      "text/plain": [
       "array(['OH', 'IN', 'KY', 'WV', 'MI', 'PA', 'CA', 'NV', 'MN', 'TX', 'MO',\n",
       "       'CO', 'OK', 'LA', 'KS', 'WI', 'IA', 'MS', 'NE', 'ND', 'WY', 'SD',\n",
       "       'MT', 'NM', 'AR', 'IL', 'NJ', 'GA', 'FL', 'NY', 'CT', 'RI', 'SC',\n",
       "       'NC', 'MD', 'MA', 'TN', 'VA', 'DE', 'DC', 'ME', 'AL', 'NH', 'VT',\n",
       "       'AZ', 'UT', 'ID', 'OR', 'WA'], dtype=object)"
      ]
     },
     "execution_count": 44,
     "metadata": {},
     "output_type": "execute_result"
    }
   ],
   "source": [
    "len_state=US_data.State.unique()\n",
    "len_state"
   ]
  },
  {
   "cell_type": "code",
   "execution_count": 45,
   "id": "f826a7b9",
   "metadata": {},
   "outputs": [
    {
     "data": {
      "text/plain": [
       "49"
      ]
     },
     "execution_count": 45,
     "metadata": {},
     "output_type": "execute_result"
    }
   ],
   "source": [
    "len(len_state)"
   ]
  },
  {
   "cell_type": "code",
   "execution_count": 46,
   "id": "bf76d33c",
   "metadata": {},
   "outputs": [
    {
     "data": {
      "text/plain": [
       "0          40.10891\n",
       "1          39.86542\n",
       "2          39.10266\n",
       "3          39.10148\n",
       "4          41.06213\n",
       "             ...   \n",
       "1516059    34.00248\n",
       "1516060    32.76696\n",
       "1516061    33.77545\n",
       "1516062    33.99246\n",
       "1516063    34.13393\n",
       "Name: Start_Lat, Length: 1516064, dtype: float64"
      ]
     },
     "execution_count": 46,
     "metadata": {},
     "output_type": "execute_result"
    }
   ],
   "source": [
    "US_data.Start_Lat"
   ]
  },
  {
   "cell_type": "code",
   "execution_count": 47,
   "id": "6ba22abb",
   "metadata": {},
   "outputs": [
    {
     "data": {
      "text/plain": [
       "0          -83.09286\n",
       "1          -84.06280\n",
       "2          -84.52468\n",
       "3          -84.52341\n",
       "4          -81.53784\n",
       "             ...    \n",
       "1516059   -117.37936\n",
       "1516060   -117.14806\n",
       "1516061   -117.84779\n",
       "1516062   -118.40302\n",
       "1516063   -117.23092\n",
       "Name: Start_Lng, Length: 1516064, dtype: float64"
      ]
     },
     "execution_count": 47,
     "metadata": {},
     "output_type": "execute_result"
    }
   ],
   "source": [
    "US_data.Start_Lng"
   ]
  },
  {
   "cell_type": "code",
   "execution_count": 48,
   "id": "9b55acd9",
   "metadata": {},
   "outputs": [],
   "source": [
    "sample_df = US_data.sample(int(0.1 * len(US_data)))"
   ]
  },
  {
   "cell_type": "code",
   "execution_count": 49,
   "id": "df217e04",
   "metadata": {},
   "outputs": [
    {
     "data": {
      "text/plain": [
       "<AxesSubplot:xlabel='Start_Lng', ylabel='Start_Lat'>"
      ]
     },
     "execution_count": 49,
     "metadata": {},
     "output_type": "execute_result"
    },
    {
     "data": {
      "image/png": "[encoded data removed]",
      "text/plain": [
       "<Figure size 432x288 with 1 Axes>"
      ]
     },
     "metadata": {},
     "output_type": "display_data"
    }
   ],
   "source": [
    "sns.scatterplot(x=sample_df.Start_Lng, y=sample_df.Start_Lat, size=0.001)"
   ]
  },
  {
   "cell_type": "code",
   "execution_count": 50,
   "id": "2654e432",
   "metadata": {},
   "outputs": [
    {
     "name": "stdout",
     "output_type": "stream",
     "text": [
      "Requirement already satisfied: folium in c:\\users\\nivetha\\anaconda3\\lib\\site-packages (0.12.1.post1)\n",
      "Requirement already satisfied: jinja2>=2.9 in c:\\users\\nivetha\\anaconda3\\lib\\site-packages (from folium) (2.11.3)\n",
      "Requirement already satisfied: numpy in c:\\users\\nivetha\\anaconda3\\lib\\site-packages (from folium) (1.20.1)\n",
      "Requirement already satisfied: branca>=0.3.0 in c:\\users\\nivetha\\anaconda3\\lib\\site-packages (from folium) (0.4.2)\n",
      "Requirement already satisfied: requests in c:\\users\\nivetha\\anaconda3\\lib\\site-packages (from folium) (2.25.1)\n",
      "Requirement already satisfied: MarkupSafe>=0.23 in c:\\users\\nivetha\\anaconda3\\lib\\site-packages (from jinja2>=2.9->folium) (1.1.1)\n",
      "Requirement already satisfied: chardet<5,>=3.0.2 in c:\\users\\nivetha\\anaconda3\\lib\\site-packages (from requests->folium) (4.0.0)\n",
      "Requirement already satisfied: idna<3,>=2.5 in c:\\users\\nivetha\\anaconda3\\lib\\site-packages (from requests->folium) (2.10)\n",
      "Requirement already satisfied: certifi>=2017.4.17 in c:\\users\\nivetha\\anaconda3\\lib\\site-packages (from requests->folium) (2020.12.5)\n",
      "Requirement already satisfied: urllib3<1.27,>=1.21.1 in c:\\users\\nivetha\\anaconda3\\lib\\site-packages (from requests->folium) (1.26.4)\n"
     ]
    }
   ],
   "source": [
    "!pip install folium"
   ]
  },
  {
   "cell_type": "code",
   "execution_count": 51,
   "id": "991bcef6",
   "metadata": {},
   "outputs": [],
   "source": [
    "import folium"
   ]
  },
  {
   "cell_type": "code",
   "execution_count": 52,
   "id": "08ec4289",
   "metadata": {},
   "outputs": [
    {
     "data": {
      "text/plain": [
       "(40.10891, -83.09286)"
      ]
     },
     "execution_count": 52,
     "metadata": {},
     "output_type": "execute_result"
    }
   ],
   "source": [
    "lat_lon = US_data.Start_Lat[0], US_data.Start_Lng[0]\n",
    "lat_lon"
   ]
  },
  {
   "cell_type": "code",
   "execution_count": 53,
   "id": "74b7bb5a",
   "metadata": {},
   "outputs": [
    {
     "data": {
      "text/plain": [
       "<zip at 0x1e3e6cd6540>"
      ]
     },
     "execution_count": 53,
     "metadata": {},
     "output_type": "execute_result"
    }
   ],
   "source": [
    "\n",
    "zip(list(US_data.Start_Lat), list(US_data.Start_Lng))"
   ]
  },
  {
   "cell_type": "code",
   "execution_count": 54,
   "id": "c07095fb",
   "metadata": {},
   "outputs": [],
   "source": [
    "from folium.plugins import HeatMap"
   ]
  },
  {
   "cell_type": "code",
   "execution_count": 67,
   "id": "63017d8f",
   "metadata": {},
   "outputs": [],
   "source": [
    "sample_df = US_data.sample(int(0.001 * len(US_data)))\n",
    "lat_lon_pairs = list(zip(list(sample_df.Start_Lat), list(sample_df.Start_Lng)))"
   ]
  },
  {
   "cell_type": "code",
   "execution_count": 68,
   "id": "cdcade8a",
   "metadata": {},
   "outputs": [
    {
     "data": {
      "text/html": [
       "<div style=\"width:100%;\"><div style=\"position:relative;width:100%;height:0;padding-bottom:60%;\"><span style=\"color:#565656\">Make this Notebook Trusted to load map: File -> Trust Notebook</span><iframe src=\"about:blank\" style=\"position:absolute;width:100%;height:100%;left:0;top:0;border:none !important;\" data-html=%3C%21DOCTYPE%20html%3E%0A%3Chead%3E%20%20%20%20%0A%20%20%20%20%3Cmeta%20http-equiv%3D%22content-type%22%20content%3D%22text/html%3B%20charset%3DUTF-8%22%20/%3E%0A%20%20%20%20%0A%20%20%20%20%20%20%20%20%3Cscript%3E%0A%20%20%20%20%20%20%20%20%20%20%20%20L_NO_TOUCH%20%3D%20false%3B%0A%20%20%20%20%20%20%20%20%20%20%20%20L_DISABLE_3D%20%3D%20false%3B%0A%20%20%20%20%20%20%20%20%3C/script%3E%0A%20%20%20%20%0A%20%20%20%20%3Cstyle%3Ehtml%2C%20body%20%7Bwidth%3A%20100%25%3Bheight%3A%20100%25%3Bmargin%3A%200%3Bpadding%3A%200%3B%7D%3C/style%3E%0A%20%20%20%20%3Cstyle%3E%23map%20%7Bposition%3Aabsolute%3Btop%3A0%3Bbottom%3A0%3Bright%3A0%3Bleft%3A0%3B%7D%3C/style%3E%0A%20%20%20%20%3Cscript%20src%3D%22https%3A//cdn.jsdelivr.net/npm/leaflet%401.6.0/dist/leaflet.js%22%3E%3C/script%3E%0A%20%20%20%20%3Cscript%20src%3D%22https%3A//code.jquery.com/jquery-1.12.4.min.js%22%3E%3C/script%3E%0A%20%20%20%20%3Cscript%20src%3D%22https%3A//maxcdn.bootstrapcdn.com/bootstrap/3.2.0/js/bootstrap.min.js%22%3E%3C/script%3E%0A%20%20%20%20%3Cscript%20src%3D%22https%3A//cdnjs.cloudflare.com/ajax/libs/Leaflet.awesome-markers/2.0.2/leaflet.awesome-markers.js%22%3E%3C/script%3E%0A%20%20%20%20%3Clink%20rel%3D%22stylesheet%22%20href%3D%22https%3A//cdn.jsdelivr.net/npm/leaflet%401.6.0/dist/leaflet.css%22/%3E%0A%20%20%20%20%3Clink%20rel%3D%22stylesheet%22%20href%3D%22https%3A//maxcdn.bootstrapcdn.com/bootstrap/3.2.0/css/bootstrap.min.css%22/%3E%0A%20%20%20%20%3Clink%20rel%3D%22stylesheet%22%20href%3D%22https%3A//maxcdn.bootstrapcdn.com/bootstrap/3.2.0/css/bootstrap-theme.min.css%22/%3E%0A%20%20%20%20%3Clink%20rel%3D%22stylesheet%22%20href%3D%22https%3A//maxcdn.bootstrapcdn.com/font-awesome/4.6.3/css/font-awesome.min.css%22/%3E%0A%20%20%20%20%3Clink%20rel%3D%22stylesheet%22%20href%3D%22https%3A//cdnjs.cloudflare.com/ajax/libs/Leaflet.awesome-markers/2.0.2/leaflet.awesome-markers.css%22/%3E%0A%20%20%20%20%3Clink%20rel%3D%22stylesheet%22%20href%3D%22https%3A//cdn.jsdelivr.net/gh/python-visualization/folium/folium/templates/leaflet.awesome.rotate.min.css%22/%3E%0A%20%20%20%20%0A%20%20%20%20%20%20%20%20%20%20%20%20%3Cmeta%20name%3D%22viewport%22%20content%3D%22width%3Ddevice-width%2C%0A%20%20%20%20%20%20%20%20%20%20%20%20%20%20%20%20initial-scale%3D1.0%2C%20maximum-scale%3D1.0%2C%20user-scalable%3Dno%22%20/%3E%0A%20%20%20%20%20%20%20%20%20%20%20%20%3Cstyle%3E%0A%20%20%20%20%20%20%20%20%20%20%20%20%20%20%20%20%23map_f720e61c53b04c1d9ba8220f2ac3469a%20%7B%0A%20%20%20%20%20%20%20%20%20%20%20%20%20%20%20%20%20%20%20%20position%3A%20relative%3B%0A%20%20%20%20%20%20%20%20%20%20%20%20%20%20%20%20%20%20%20%20width%3A%20100.0%25%3B%0A%20%20%20%20%20%20%20%20%20%20%20%20%20%20%20%20%20%20%20%20height%3A%20100.0%25%3B%0A%20%20%20%20%20%20%20%20%20%20%20%20%20%20%20%20%20%20%20%20left%3A%200.0%25%3B%0A%20%20%20%20%20%20%20%20%20%20%20%20%20%20%20%20%20%20%20%20top%3A%200.0%25%3B%0A%20%20%20%20%20%20%20%20%20%20%20%20%20%20%20%20%7D%0A%20%20%20%20%20%20%20%20%20%20%20%20%3C/style%3E%0A%20%20%20%20%20%20%20%20%0A%20%20%20%20%3Cscript%20src%3D%22https%3A//cdn.jsdelivr.net/gh/python-visualization/folium%40master/folium/templates/leaflet_heat.min.js%22%3E%3C/script%3E%0A%3C/head%3E%0A%3Cbody%3E%20%20%20%20%0A%20%20%20%20%0A%20%20%20%20%20%20%20%20%20%20%20%20%3Cdiv%20class%3D%22folium-map%22%20id%3D%22map_f720e61c53b04c1d9ba8220f2ac3469a%22%20%3E%3C/div%3E%0A%20%20%20%20%20%20%20%20%0A%3C/body%3E%0A%3Cscript%3E%20%20%20%20%0A%20%20%20%20%0A%20%20%20%20%20%20%20%20%20%20%20%20var%20map_f720e61c53b04c1d9ba8220f2ac3469a%20%3D%20L.map%28%0A%20%20%20%20%20%20%20%20%20%20%20%20%20%20%20%20%22map_f720e61c53b04c1d9ba8220f2ac3469a%22%2C%0A%20%20%20%20%20%20%20%20%20%20%20%20%20%20%20%20%7B%0A%20%20%20%20%20%20%20%20%20%20%20%20%20%20%20%20%20%20%20%20center%3A%20%5B0%2C%200%5D%2C%0A%20%20%20%20%20%20%20%20%20%20%20%20%20%20%20%20%20%20%20%20crs%3A%20L.CRS.EPSG3857%2C%0A%20%20%20%20%20%20%20%20%20%20%20%20%20%20%20%20%20%20%20%20zoom%3A%201%2C%0A%20%20%20%20%20%20%20%20%20%20%20%20%20%20%20%20%20%20%20%20zoomControl%3A%20true%2C%0A%20%20%20%20%20%20%20%20%20%20%20%20%20%20%20%20%20%20%20%20preferCanvas%3A%20false%2C%0A%20%20%20%20%20%20%20%20%20%20%20%20%20%20%20%20%7D%0A%20%20%20%20%20%20%20%20%20%20%20%20%29%3B%0A%0A%20%20%20%20%20%20%20%20%20%20%20%20%0A%0A%20%20%20%20%20%20%20%20%0A%20%20%20%20%0A%20%20%20%20%20%20%20%20%20%20%20%20var%20tile_layer_bccef225de5a418b90f2ac2952aa3561%20%3D%20L.tileLayer%28%0A%20%20%20%20%20%20%20%20%20%20%20%20%20%20%20%20%22https%3A//%7Bs%7D.tile.openstreetmap.org/%7Bz%7D/%7Bx%7D/%7By%7D.png%22%2C%0A%20%20%20%20%20%20%20%20%20%20%20%20%20%20%20%20%7B%22attribution%22%3A%20%22Data%20by%20%5Cu0026copy%3B%20%5Cu003ca%20href%3D%5C%22http%3A//openstreetmap.org%5C%22%5Cu003eOpenStreetMap%5Cu003c/a%5Cu003e%2C%20under%20%5Cu003ca%20href%3D%5C%22http%3A//www.openstreetmap.org/copyright%5C%22%5Cu003eODbL%5Cu003c/a%5Cu003e.%22%2C%20%22detectRetina%22%3A%20false%2C%20%22maxNativeZoom%22%3A%2018%2C%20%22maxZoom%22%3A%2018%2C%20%22minZoom%22%3A%200%2C%20%22noWrap%22%3A%20false%2C%20%22opacity%22%3A%201%2C%20%22subdomains%22%3A%20%22abc%22%2C%20%22tms%22%3A%20false%7D%0A%20%20%20%20%20%20%20%20%20%20%20%20%29.addTo%28map_f720e61c53b04c1d9ba8220f2ac3469a%29%3B%0A%20%20%20%20%20%20%20%20%0A%20%20%20%20%0A%20%20%20%20%20%20%20%20%20%20%20%20var%20heat_map_6139d4c508f14f278987f04eb322d608%20%3D%20L.heatLayer%28%0A%20%20%20%20%20%20%20%20%20%20%20%20%20%20%20%20%5B%5B33.894384%2C%20-117.468862%5D%2C%20%5B38.73823%2C%20-104.68271%5D%2C%20%5B37.93212%2C%20-122.40014%5D%2C%20%5B33.88012%2C%20-117.65386%5D%2C%20%5B39.11976%2C%20-77.04376%5D%2C%20%5B42.951747%2C%20-78.758615%5D%2C%20%5B33.925062%2C%20-118.325704%5D%2C%20%5B46.44172%2C%20-95.17663%5D%2C%20%5B34.061809%2C%20-118.457189%5D%2C%20%5B36.902463%2C%20-77.791439%5D%2C%20%5B38.7576%2C%20-86.913829%5D%2C%20%5B33.87897%2C%20-117.55805%5D%2C%20%5B41.97301%2C%20-73.734538%5D%2C%20%5B40.113067%2C%20-75.119247%5D%2C%20%5B39.012103%2C%20-77.063349%5D%2C%20%5B35.16628%2C%20-80.88909%5D%2C%20%5B45.47669%2C%20-122.53213%5D%2C%20%5B34.959553%2C%20-81.02765%5D%2C%20%5B44.71237%2C%20-93.03318%5D%2C%20%5B47.630965%2C%20-122.32021%5D%2C%20%5B33.855888%2C%20-118.011244%5D%2C%20%5B40.76929%2C%20-111.89099%5D%2C%20%5B39.252895%2C%20-76.679238%5D%2C%20%5B39.0451%2C%20-94.39097%5D%2C%20%5B37.63522%2C%20-77.54661%5D%2C%20%5B37.852481%2C%20-122.299858%5D%2C%20%5B28.4499%2C%20-81.47626%5D%2C%20%5B37.60729%2C%20-122.06507%5D%2C%20%5B33.92631%2C%20-118.21353%5D%2C%20%5B42.344412%2C%20-87.933497%5D%2C%20%5B37.64877%2C%20-121.019889%5D%2C%20%5B45.06869%2C%20-93.25868%5D%2C%20%5B40.03715%2C%20-82.90274%5D%2C%20%5B34.068869%2C%20-117.839455%5D%2C%20%5B43.64587%2C%20-94.092%5D%2C%20%5B40.71827%2C%20-112.064%5D%2C%20%5B38.656899%2C%20-121.38294%5D%2C%20%5B39.91696%2C%20-104.98861%5D%2C%20%5B32.60147%2C%20-97.15085%5D%2C%20%5B36.15376%2C%20-86.84665%5D%2C%20%5B29.94231%2C%20-90.07309%5D%2C%20%5B37.276661%2C%20-121.863221%5D%2C%20%5B42.7821%2C%20-85.843309%5D%2C%20%5B42.12213%2C%20-71.22919%5D%2C%20%5B34.032591%2C%20-118.144042%5D%2C%20%5B34.155036%2C%20-118.605815%5D%2C%20%5B32.91648%2C%20-96.74275%5D%2C%20%5B38.284225%2C%20-122.30062%5D%2C%20%5B45.53114%2C%20-122.66533%5D%2C%20%5B39.0124%2C%20-76.4957%5D%2C%20%5B40.79565%2C%20-73.46903%5D%2C%20%5B38.022173%2C%20-122.261724%5D%2C%20%5B32.759842%2C%20-117.173326%5D%2C%20%5B38.20977%2C%20-91.1738%5D%2C%20%5B41.608196%2C%20-87.681852%5D%2C%20%5B35.718591%2C%20-118.726058%5D%2C%20%5B34.442227%2C%20-119.779715%5D%2C%20%5B38.556782%2C%20-121.336092%5D%2C%20%5B39.90515%2C%20-74.9858%5D%2C%20%5B38.553088%2C%20-121.375116%5D%2C%20%5B33.97375%2C%20-118.38159%5D%2C%20%5B30.426366%2C%20-91.168669%5D%2C%20%5B41.42761%2C%20-112.05648%5D%2C%20%5B33.550797%2C%20-117.67294%5D%2C%20%5B40.660138%2C%20-111.95246%5D%2C%20%5B33.87157%2C%20-117.68663%5D%2C%20%5B42.66362%2C%20-73.726369%5D%2C%20%5B33.99644%2C%20-117.36488%5D%2C%20%5B29.94636%2C%20-90.08865%5D%2C%20%5B34.06565%2C%20-117.99678%5D%2C%20%5B25.853571%2C%20-80.36516%5D%2C%20%5B30.39975%2C%20-87.000556%5D%2C%20%5B25.78099%2C%20-80.33261%5D%2C%20%5B38.63752%2C%20-121.41611%5D%2C%20%5B40.146361%2C%20-75.31746%5D%2C%20%5B33.88501%2C%20-84.25134%5D%2C%20%5B37.733146%2C%20-122.413544%5D%2C%20%5B42.37475%2C%20-88.00239%5D%2C%20%5B36.962792%2C%20-76.271729%5D%2C%20%5B37.38843%2C%20-76.76662%5D%2C%20%5B41.59739%2C%20-87.58348%5D%2C%20%5B44.9518%2C%20-93.15897%5D%2C%20%5B33.772262%2C%20-117.909275%5D%2C%20%5B37.32104%2C%20-121.89006%5D%2C%20%5B30.459841%2C%20-91.051265%5D%2C%20%5B41.218262%2C%20-111.948285%5D%2C%20%5B38.263981%2C%20-122.65921%5D%2C%20%5B36.16061%2C%20-95.86165%5D%2C%20%5B27.598675%2C%20-80.505613%5D%2C%20%5B41.35566%2C%20-74.28212%5D%2C%20%5B34.037999%2C%20-118.276449%5D%2C%20%5B26.365741%2C%20-80.079237%5D%2C%20%5B35.009105%2C%20-85.272119%5D%2C%20%5B35.01078%2C%20-120.567579%5D%2C%20%5B29.83158%2C%20-95.38293%5D%2C%20%5B35.394011%2C%20-118.96997%5D%2C%20%5B26.118439%2C%20-80.329832%5D%2C%20%5B42.279207%2C%20-83.783904%5D%2C%20%5B44.167478%2C%20-93.874473%5D%2C%20%5B32.870503%2C%20-87.921191%5D%2C%20%5B39.921691%2C%20-75.039482%5D%2C%20%5B34.036865%2C%20-118.284963%5D%2C%20%5B28.55292%2C%20-81.41374%5D%2C%20%5B25.92184%2C%20-80.21123%5D%2C%20%5B45.506626%2C%20-122.748774%5D%2C%20%5B34.887561%2C%20-82.181419%5D%2C%20%5B36.988335%2C%20-121.491407%5D%2C%20%5B44.80972%2C%20-93.29133%5D%2C%20%5B44.87608%2C%20-124.03325%5D%2C%20%5B27.60133%2C%20-82.53939%5D%2C%20%5B44.86174%2C%20-93.27492%5D%2C%20%5B35.95776%2C%20-86.558089%5D%2C%20%5B35.072416%2C%20-80.824493%5D%2C%20%5B33.7971%2C%20-84.48744%5D%2C%20%5B43.42896%2C%20-73.469601%5D%2C%20%5B44.850054%2C%20-93.49021%5D%2C%20%5B33.71611%2C%20-84.31045%5D%2C%20%5B37.639462%2C%20-121.25122%5D%2C%20%5B33.882659%2C%20-117.643637%5D%2C%20%5B40.120454%2C%20-75.249452%5D%2C%20%5B26.54639%2C%20-81.86906%5D%2C%20%5B42.2965%2C%20-84.14213%5D%2C%20%5B34.137643%2C%20-117.956095%5D%2C%20%5B41.96323%2C%20-87.745329%5D%2C%20%5B35.43792%2C%20-80.86841%5D%2C%20%5B33.627933%2C%20-117.651257%5D%2C%20%5B38.731741%2C%20-120.78995%5D%2C%20%5B33.502201%2C%20-112.115936%5D%2C%20%5B25.828457%2C%20-80.206293%5D%2C%20%5B25.89659%2C%20-80.28648%5D%2C%20%5B37.962063%2C%20-122.329177%5D%2C%20%5B36.782473%2C%20-76.428633%5D%2C%20%5B42.38718%2C%20-83.43781%5D%2C%20%5B33.75801%2C%20-84.49355%5D%2C%20%5B37.413077%2C%20-122.081123%5D%2C%20%5B34.12223%2C%20-117.69517%5D%2C%20%5B32.84242%2C%20-97.34704%5D%2C%20%5B44.32619%2C%20-94.59054%5D%2C%20%5B39.550834%2C%20-119.822784%5D%2C%20%5B38.91265%2C%20-104.82109%5D%2C%20%5B35.856317%2C%20-78.647679%5D%2C%20%5B29.589485%2C%20-95.518073%5D%2C%20%5B40.16219%2C%20-75.8828%5D%2C%20%5B32.809893%2C%20-96.850378%5D%2C%20%5B39.625469%2C%20-82.853838%5D%2C%20%5B33.91695%2C%20-118.04668%5D%2C%20%5B41.246953%2C%20-73.008624%5D%2C%20%5B45.47037%2C%20-122.68532%5D%2C%20%5B37.850978%2C%20-122.299583%5D%2C%20%5B38.455977%2C%20-121.50045%5D%2C%20%5B45.28639%2C%20-121.728039%5D%2C%20%5B38.653003%2C%20-121.244188%5D%2C%20%5B41.708709%2C%20-87.592986%5D%2C%20%5B28.364505%2C%20-81.366157%5D%2C%20%5B44.629531%2C%20-117.519328%5D%2C%20%5B39.87508%2C%20-105.025272%5D%2C%20%5B44.97033%2C%20-93.33141%5D%2C%20%5B45.838435%2C%20-119.6944%5D%2C%20%5B39.006117%2C%20-77.071635%5D%2C%20%5B34.81852%2C%20-92.15328%5D%2C%20%5B42.40414%2C%20-83.21844%5D%2C%20%5B44.95078%2C%20-93.09979%5D%2C%20%5B25.901581%2C%20-80.192012%5D%2C%20%5B33.683618%2C%20-84.409982%5D%2C%20%5B34.44028%2C%20-119.754108%5D%2C%20%5B41.749788%2C%20-88.064047%5D%2C%20%5B33.984567%2C%20-117.868389%5D%2C%20%5B27.447288%2C%20-82.513807%5D%2C%20%5B40.20084%2C%20-74.59051%5D%2C%20%5B38.9014%2C%20-94.52421%5D%2C%20%5B41.69508%2C%20-87.59682%5D%2C%20%5B40.73907%2C%20-74.06535%5D%2C%20%5B37.071434%2C%20-121.589635%5D%2C%20%5B43.11252%2C%20-87.91769%5D%2C%20%5B33.930997%2C%20-118.280952%5D%2C%20%5B33.996831%2C%20-117.931031%5D%2C%20%5B40.817744%2C%20-111.918297%5D%2C%20%5B25.690824%2C%20-80.389244%5D%2C%20%5B40.01879%2C%20-111.49623%5D%2C%20%5B33.036199%2C%20-117.282346%5D%2C%20%5B31.533854%2C%20-89.494641%5D%2C%20%5B45.45351%2C%20-122.72118%5D%2C%20%5B30.28595%2C%20-81.80344%5D%2C%20%5B34.053272%2C%20-117.547928%5D%2C%20%5B38.661907%2C%20-120.941201%5D%2C%20%5B33.94852%2C%20-118.27976%5D%2C%20%5B40.8385%2C%20-73.87302%5D%2C%20%5B45.73343%2C%20-119.06021%5D%2C%20%5B42.929527%2C%20-89.533656%5D%2C%20%5B42.3772%2C%20-83.2166%5D%2C%20%5B35.75203%2C%20-78.69556%5D%2C%20%5B38.89209%2C%20-77.03195%5D%2C%20%5B32.8375%2C%20-97.10735%5D%2C%20%5B41.03749%2C%20-81.56547%5D%2C%20%5B34.158825%2C%20-119.001822%5D%2C%20%5B45.258127%2C%20-93.70469%5D%2C%20%5B44.898133%2C%20-93.219627%5D%2C%20%5B30.38001%2C%20-97.724884%5D%2C%20%5B32.759658%2C%20-97.119802%5D%2C%20%5B41.77597%2C%20-87.62792%5D%2C%20%5B32.76764%2C%20-96.48652%5D%2C%20%5B41.19556%2C%20-75.79313%5D%2C%20%5B28.82624%2C%20-81.328261%5D%2C%20%5B44.395187%2C%20-122.169086%5D%2C%20%5B45.60734%2C%20-121.19748%5D%2C%20%5B34.50645%2C%20-117.906423%5D%2C%20%5B33.803396%2C%20-118.141609%5D%2C%20%5B41.75492%2C%20-89.64087%5D%2C%20%5B43.089727%2C%20-75.191728%5D%2C%20%5B41.99504%2C%20-87.86606%5D%2C%20%5B44.20116%2C%20-93.25648%5D%2C%20%5B34.03787%2C%20-118.28104%5D%2C%20%5B33.99327%2C%20-118.40357%5D%2C%20%5B33.86464%2C%20-118.3264%5D%2C%20%5B42.50931%2C%20-83.11514%5D%2C%20%5B34.51799%2C%20-111.98975%5D%2C%20%5B37.627649%2C%20-122.081727%5D%2C%20%5B38.743589%2C%20-121.174602%5D%2C%20%5B39.82701%2C%20-75.43441%5D%2C%20%5B40.85306%2C%20-73.96011%5D%2C%20%5B33.293091%2C%20-111.951509%5D%2C%20%5B36.963427%2C%20-121.968462%5D%2C%20%5B38.08264%2C%20-122.23325%5D%2C%20%5B35.24087%2C%20-80.94433%5D%2C%20%5B36.096209%2C%20-86.936968%5D%2C%20%5B42.308853%2C%20-122.845741%5D%2C%20%5B41.88615%2C%20-87.64631%5D%2C%20%5B38.807%2C%20-76.98375%5D%2C%20%5B34.266389%2C%20-118.639167%5D%2C%20%5B38.88484%2C%20-77.0219%5D%2C%20%5B37.70227%2C%20-121.74506%5D%2C%20%5B25.92207%2C%20-80.168213%5D%2C%20%5B32.731887%2C%20-97.498565%5D%2C%20%5B42.50165%2C%20-123.362963%5D%2C%20%5B37.517734%2C%20-77.20067%5D%2C%20%5B28.55208%2C%20-81.48965%5D%2C%20%5B37.48698%2C%20-121.93262%5D%2C%20%5B38.5249%2C%20-121.467815%5D%2C%20%5B35.531375%2C%20-118.647615%5D%2C%20%5B38.992861%2C%20-77.031571%5D%2C%20%5B41.420014%2C%20-72.823032%5D%2C%20%5B38.339628%2C%20-85.810448%5D%2C%20%5B37.86125%2C%20-122.03305%5D%2C%20%5B30.821295%2C%20-85.669573%5D%2C%20%5B40.45081%2C%20-78.83918%5D%2C%20%5B44.29545%2C%20-121.55932%5D%2C%20%5B44.29134%2C%20-121.551104%5D%2C%20%5B34.842833%2C%20-78.114755%5D%2C%20%5B39.09209%2C%20-76.8918%5D%2C%20%5B37.520056%2C%20-122.354542%5D%2C%20%5B43.088451%2C%20-76.355207%5D%2C%20%5B42.69236%2C%20-73.8268%5D%2C%20%5B38.41278%2C%20-81.564327%5D%2C%20%5B45.610938%2C%20-123.230264%5D%2C%20%5B36.991471%2C%20-122.020393%5D%2C%20%5B25.62749%2C%20-80.37989%5D%2C%20%5B33.826786%2C%20-84.230536%5D%2C%20%5B38.29097%2C%20-85.90792%5D%2C%20%5B37.767635%2C%20-122.396201%5D%2C%20%5B28.567595%2C%20-81.207804%5D%2C%20%5B35.223151%2C%20-118.566076%5D%2C%20%5B38.898671%2C%20-77.072337%5D%2C%20%5B34.155665%2C%20-118.445298%5D%2C%20%5B38.653008%2C%20-121.244201%5D%2C%20%5B30.392229%2C%20-91.035023%5D%2C%20%5B45.71016%2C%20-118.98868%5D%2C%20%5B37.32868%2C%20-122.05224%5D%2C%20%5B36.70623%2C%20-119.934398%5D%2C%20%5B37.420555%2C%20-77.636965%5D%2C%20%5B40.454288%2C%20-111.914001%5D%2C%20%5B33.52742%2C%20-80.42602%5D%2C%20%5B38.629227%2C%20-121.21573%5D%2C%20%5B44.987678%2C%20-93.288825%5D%2C%20%5B33.786231%2C%20-118.281093%5D%2C%20%5B25.859793%2C%20-80.328996%5D%2C%20%5B35.2956%2C%20-80.79798%5D%2C%20%5B33.7745%2C%20-118.06948%5D%2C%20%5B38.635679%2C%20-90.415619%5D%2C%20%5B29.784081%2C%20-95.219102%5D%2C%20%5B36.749171%2C%20-120.567494%5D%2C%20%5B45.53411%2C%20-122.564536%5D%2C%20%5B39.82181%2C%20-104.93092%5D%2C%20%5B34.31153%2C%20-86.90352%5D%2C%20%5B40.03976%2C%20-76.29132%5D%2C%20%5B34.15067%2C%20-118.46824%5D%2C%20%5B44.78698%2C%20-93.2048%5D%2C%20%5B37.696228%2C%20-122.049904%5D%2C%20%5B42.12179%2C%20-71.06161%5D%2C%20%5B38.83261%2C%20-104.78835%5D%2C%20%5B26.087218%2C%20-80.362898%5D%2C%20%5B40.79182%2C%20-74.46883%5D%2C%20%5B34.12915%2C%20-117.68603%5D%2C%20%5B33.614681%2C%20-117.707783%5D%2C%20%5B40.840711%2C%20-74.082669%5D%2C%20%5B30.005075%2C%20-90.033567%5D%2C%20%5B25.988148%2C%20-80.165745%5D%2C%20%5B44.40798%2C%20-92.09325%5D%2C%20%5B35.528243%2C%20-119.305009%5D%2C%20%5B29.896718%2C%20-90.084705%5D%2C%20%5B34.15542%2C%20-118.40082%5D%2C%20%5B41.87562%2C%20-87.62133%5D%2C%20%5B40.94211%2C%20-73.87524%5D%2C%20%5B44.861075%2C%20-93.167217%5D%2C%20%5B34.07124%2C%20-118.13357%5D%2C%20%5B29.65859%2C%20-95.56009%5D%2C%20%5B35.110632%2C%20-80.826216%5D%2C%20%5B41.95492%2C%20-71.30413%5D%2C%20%5B46.140683%2C%20-93.461185%5D%2C%20%5B37.969404%2C%20-122.058674%5D%2C%20%5B34.342041%2C%20-82.559593%5D%2C%20%5B35.754353%2C%20-78.581578%5D%2C%20%5B40.055162%2C%20-74.984954%5D%2C%20%5B33.911281%2C%20-118.168806%5D%2C%20%5B37.824105%2C%20-122.312041%5D%2C%20%5B29.801505%2C%20-95.371547%5D%2C%20%5B37.44746%2C%20-122.1217%5D%2C%20%5B41.351785%2C%20-83.463447%5D%2C%20%5B33.39159%2C%20-117.17436%5D%2C%20%5B30.52763%2C%20-97.6904%5D%2C%20%5B41.707241%2C%20-96.044079%5D%2C%20%5B35.309076%2C%20-80.754156%5D%2C%20%5B35.33164%2C%20-80.74201%5D%2C%20%5B30.227956%2C%20-81.762638%5D%2C%20%5B34.029243%2C%20-117.129686%5D%2C%20%5B25.76109%2C%20-80.400718%5D%2C%20%5B34.18238%2C%20-118.31484%5D%2C%20%5B34.277622%2C%20-118.604832%5D%2C%20%5B34.142179%2C%20-119.106061%5D%2C%20%5B37.158147%2C%20-121.657385%5D%2C%20%5B41.03313%2C%20-73.75346%5D%2C%20%5B39.83368%2C%20-86.15692%5D%2C%20%5B41.28837%2C%20-72.88675%5D%2C%20%5B34.154616%2C%20-118.272424%5D%2C%20%5B27.937909%2C%20-82.236418%5D%2C%20%5B42.269482%2C%20-122.802561%5D%2C%20%5B45.21468%2C%20-93.03433%5D%2C%20%5B41.762%2C%20-87.90349%5D%2C%20%5B42.23584%2C%20-83.57754%5D%2C%20%5B42.167681%2C%20-87.922369%5D%2C%20%5B34.031919%2C%20-118.27448%5D%2C%20%5B37.891389%2C%20-121.4875%5D%2C%20%5B44.06371%2C%20-123.04941%5D%2C%20%5B40.70108%2C%20-74.1374%5D%2C%20%5B39.10666%2C%20-94.58016%5D%2C%20%5B44.04816%2C%20-123.174199%5D%2C%20%5B34.232634%2C%20-118.299172%5D%2C%20%5B38.240565%2C%20-85.622259%5D%2C%20%5B37.405339%2C%20-122.056326%5D%2C%20%5B40.76465%2C%20-73.95242%5D%2C%20%5B45.68563%2C%20-121.39671%5D%2C%20%5B45.5474%2C%20-122.55069%5D%2C%20%5B41.89301%2C%20-71.37746%5D%2C%20%5B48.24196%2C%20-122.44761%5D%2C%20%5B30.43542%2C%20-91.17755%5D%2C%20%5B42.93656%2C%20-78.76644%5D%2C%20%5B34.02187%2C%20-117.99054%5D%2C%20%5B39.063838%2C%20-94.500157%5D%2C%20%5B42.05683%2C%20-87.84033%5D%2C%20%5B43.651653%2C%20-94.051905%5D%2C%20%5B39.72558%2C%20-105.01723%5D%2C%20%5B39.27808%2C%20-77.32362%5D%2C%20%5B39.168015%2C%20-76.641252%5D%2C%20%5B40.070647%2C%20-76.318427%5D%2C%20%5B35.103599%2C%20-82.040087%5D%2C%20%5B26.70312%2C%20-80.11114%5D%2C%20%5B26.019425%2C%20-80.346309%5D%2C%20%5B37.499961%2C%20-122.320251%5D%2C%20%5B37.953134%2C%20-122.271826%5D%2C%20%5B40.63854%2C%20-111.83457%5D%2C%20%5B34.04179%2C%20-118.567649%5D%2C%20%5B33.994244%2C%20-117.901751%5D%2C%20%5B33.53228%2C%20-84.36403%5D%2C%20%5B36.590882%2C%20-119.628532%5D%2C%20%5B45.38702%2C%20-93.56278%5D%2C%20%5B40.8227%2C%20-74.12556%5D%2C%20%5B45.50986%2C%20-122.56534%5D%2C%20%5B34.022126%2C%20-117.813032%5D%2C%20%5B45.49707%2C%20-122.45495%5D%2C%20%5B37.66557%2C%20-122.1179%5D%2C%20%5B45.20005%2C%20-93.56496%5D%2C%20%5B39.82701%2C%20-75.43441%5D%2C%20%5B42.22005%2C%20-83.47794%5D%2C%20%5B42.40424%2C%20-71.08254%5D%2C%20%5B34.06997%2C%20-117.29582%5D%2C%20%5B32.746738%2C%20-117.1564%5D%2C%20%5B39.86014%2C%20-74.22127%5D%2C%20%5B45.065306%2C%20-93.202231%5D%2C%20%5B37.570583%2C%20-122.515936%5D%2C%20%5B37.601131%2C%20-120.847285%5D%2C%20%5B32.68899%2C%20-97.24037%5D%2C%20%5B47.63324%2C%20-122.18969%5D%2C%20%5B45.647291%2C%20-120.808392%5D%2C%20%5B40.670598%2C%20-73.997732%5D%2C%20%5B25.782663%2C%20-80.317767%5D%2C%20%5B32.98395%2C%20-117.254451%5D%2C%20%5B36.01031%2C%20-79.85323%5D%2C%20%5B34.130347%2C%20-117.945388%5D%2C%20%5B34.99043%2C%20-117.54105%5D%2C%20%5B34.1785%2C%20-117.44097%5D%2C%20%5B28.39188%2C%20-81.497005%5D%2C%20%5B44.77278%2C%20-93.30498%5D%2C%20%5B34.087166%2C%20-117.674068%5D%2C%20%5B29.841038%2C%20-95.318978%5D%2C%20%5B47.70026%2C%20-122.17948%5D%2C%20%5B43.05097%2C%20-83.663312%5D%2C%20%5B38.723552%2C%20-90.323473%5D%2C%20%5B33.56837%2C%20-117.18077%5D%2C%20%5B27.59476%2C%20-81.895689%5D%2C%20%5B42.12427%2C%20-75.90536%5D%2C%20%5B33.964066%2C%20-117.325187%5D%2C%20%5B40.077127%2C%20-75.411819%5D%2C%20%5B41.13463%2C%20-73.29335%5D%2C%20%5B32.359036%2C%20-111.046817%5D%2C%20%5B39.072511%2C%20-94.488467%5D%2C%20%5B45.27581%2C%20-122.77278%5D%2C%20%5B34.10661%2C%20-117.82221%5D%2C%20%5B37.70107%2C%20-121.81282%5D%2C%20%5B45.758534%2C%20-123.200305%5D%2C%20%5B39.943421%2C%20-83.079411%5D%2C%20%5B38.63586%2C%20-90.13802%5D%2C%20%5B25.952254%2C%20-80.261933%5D%2C%20%5B25.769079%2C%20-80.352193%5D%2C%20%5B25.684458%2C%20-80.446068%5D%2C%20%5B38.01857%2C%20-121.89513%5D%2C%20%5B38.644188%2C%20-121.588843%5D%2C%20%5B40.28739%2C%20-85.36811%5D%2C%20%5B34.77932%2C%20-82.37637%5D%2C%20%5B37.585029%2C%20-122.507117%5D%2C%20%5B42.24538%2C%20-88.42298%5D%2C%20%5B41.101881%2C%20-73.434666%5D%2C%20%5B39.05121%2C%20-84.551042%5D%2C%20%5B37.606365%2C%20-121.833238%5D%2C%20%5B40.68113%2C%20-73.69403%5D%2C%20%5B39.01138%2C%20-76.97907%5D%2C%20%5B34.0065%2C%20-118.15532%5D%2C%20%5B39.703984%2C%20-105.704235%5D%2C%20%5B45.00615%2C%20-93.40085%5D%2C%20%5B47.205099%2C%20-120.705272%5D%2C%20%5B40.534%2C%20-74.37728%5D%2C%20%5B32.89922%2C%20-80.02122%5D%2C%20%5B34.15404%2C%20-118.34413%5D%2C%20%5B27.894569%2C%20-82.79737%5D%2C%20%5B32.79644%2C%20-96.81583%5D%2C%20%5B34.66447%2C%20-92.40352%5D%2C%20%5B33.945478%2C%20-118.293525%5D%2C%20%5B41.93301%2C%20-72.454755%5D%2C%20%5B28.28063%2C%20-82.67551%5D%2C%20%5B40.19219%2C%20-74.75126%5D%2C%20%5B34.02871%2C%20-118.25424%5D%2C%20%5B34.135862%2C%20-117.398518%5D%2C%20%5B40.73106%2C%20-73.34568%5D%2C%20%5B37.925549%2C%20-121.677932%5D%2C%20%5B34.104156%2C%20-80.954887%5D%2C%20%5B37.406085%2C%20-121.910149%5D%2C%20%5B47.92646%2C%20-122.20324%5D%2C%20%5B40.73208%2C%20-73.87064%5D%2C%20%5B38.8016%2C%20-77.5163%5D%2C%20%5B36.266041%2C%20-119.363319%5D%2C%20%5B44.4%2C%20-93.21992%5D%2C%20%5B47.56171%2C%20-122.32144%5D%2C%20%5B44.77%2C%20-123.04471%5D%2C%20%5B40.67385%2C%20-73.73456%5D%2C%20%5B34.01841%2C%20-117.98697%5D%2C%20%5B39.056446%2C%20-122.781792%5D%2C%20%5B33.924469%2C%20-118.104261%5D%2C%20%5B41.55942%2C%20-83.6883%5D%2C%20%5B33.122297%2C%20-117.218605%5D%2C%20%5B34.04835%2C%20-84.56183%5D%2C%20%5B41.080259%2C%20-111.982729%5D%2C%20%5B30.31207%2C%20-97.71536%5D%2C%20%5B33.896875%2C%20-79.129315%5D%2C%20%5B40.93815%2C%20-121.606611%5D%2C%20%5B43.63768%2C%20-95.63839%5D%2C%20%5B37.32509%2C%20-121.88677%5D%2C%20%5B39.89042%2C%20-82.88302%5D%2C%20%5B38.62445%2C%20-90.20641%5D%2C%20%5B39.74001%2C%20-104.9916%5D%2C%20%5B26.57806%2C%20-80.06947%5D%2C%20%5B40.73756%2C%20-73.93502%5D%2C%20%5B35.30779%2C%20-80.84534%5D%2C%20%5B33.651706%2C%20-117.760893%5D%2C%20%5B44.222041%2C%20-93.276039%5D%2C%20%5B39.49794%2C%20-77.57084%5D%2C%20%5B40.6407%2C%20-73.74334%5D%2C%20%5B47.57167%2C%20-122.3292%5D%2C%20%5B37.69476%2C%20-122.1136%5D%2C%20%5B37.42955%2C%20-119.639235%5D%2C%20%5B33.949688%2C%20-84.357756%5D%2C%20%5B33.930496%2C%20-118.211637%5D%2C%20%5B35.51682%2C%20-97.54443%5D%2C%20%5B25.78875%2C%20-80.20004%5D%2C%20%5B29.76548%2C%20-95.45602%5D%2C%20%5B34.08741%2C%20-117.66528%5D%2C%20%5B39.613408%2C%20-76.516214%5D%2C%20%5B33.916717%2C%20-84.342199%5D%2C%20%5B32.3231%2C%20-111.0123%5D%2C%20%5B35.079723%2C%20-80.872798%5D%2C%20%5B40.480256%2C%20-76.529402%5D%2C%20%5B45.492013%2C%20-123.651761%5D%2C%20%5B32.663372%2C%20-83.74424%5D%2C%20%5B28.261269%2C%20-81.486184%5D%2C%20%5B34.09322%2C%20-118.20621%5D%2C%20%5B42.30556%2C%20-87.92453%5D%2C%20%5B38.71107%2C%20-90.44812%5D%2C%20%5B27.84385%2C%20-82.82821%5D%2C%20%5B28.02167%2C%20-82.25048%5D%2C%20%5B38.85295%2C%20-76.98458%5D%2C%20%5B37.274485%2C%20-122.002646%5D%2C%20%5B37.273325%2C%20-78.63773%5D%2C%20%5B37.71151%2C%20-122.39583%5D%2C%20%5B33.172198%2C%20-87.521263%5D%2C%20%5B40.98783%2C%20-78.17337%5D%2C%20%5B33.76784%2C%20-117.478335%5D%2C%20%5B30.197918%2C%20-97.724395%5D%2C%20%5B45.686812%2C%20-121.416878%5D%2C%20%5B35.1839%2C%20-80.76092%5D%2C%20%5B33.86395%2C%20-118.285149%5D%2C%20%5B45.52644%2C%20-122.68673%5D%2C%20%5B37.7414%2C%20-121.5803%5D%2C%20%5B39.93552%2C%20-75.07924%5D%2C%20%5B37.593817%2C%20-120.9596%5D%2C%20%5B32.68543%2C%20-117.112512%5D%2C%20%5B29.774202%2C%20-95.456174%5D%2C%20%5B37.329347%2C%20-120.563231%5D%2C%20%5B34.200424%2C%20-118.473727%5D%2C%20%5B40.17618%2C%20-111.64677%5D%2C%20%5B47.7939%2C%20-122.21484%5D%2C%20%5B27.962911%2C%20-80.541062%5D%2C%20%5B33.873628%2C%20-118.100999%5D%2C%20%5B35.90054%2C%20-77.92853%5D%2C%20%5B25.8588%2C%20-80.20802%5D%2C%20%5B37.38617%2C%20-122.26396%5D%2C%20%5B33.68253%2C%20-84.72778%5D%2C%20%5B32.797314%2C%20-96.816997%5D%2C%20%5B43.40661%2C%20-124.22402%5D%2C%20%5B35.58018%2C%20-97.42503%5D%2C%20%5B39.77595%2C%20-84.29245%5D%2C%20%5B38.010027%2C%20-122.100102%5D%2C%20%5B44.947649%2C%20-93.34784%5D%2C%20%5B36.75643%2C%20-121.665066%5D%2C%20%5B34.22774%2C%20-118.39039%5D%2C%20%5B40.77117%2C%20-112.02751%5D%2C%20%5B30.02933%2C%20-95.42918%5D%2C%20%5B38.291%2C%20-121.325949%5D%2C%20%5B37.020653%2C%20-76.328297%5D%2C%20%5B35.553256%2C%20-120.761651%5D%2C%20%5B41.039074%2C%20-73.836568%5D%2C%20%5B45.41047%2C%20-118.34298%5D%2C%20%5B33.94427%2C%20-117.39175%5D%2C%20%5B40.63066%2C%20-111.87783%5D%2C%20%5B26.546544%2C%20-81.843044%5D%2C%20%5B40.58922%2C%20-75.589391%5D%2C%20%5B39.344897%2C%20-76.745292%5D%2C%20%5B28.19976%2C%20-80.70978%5D%2C%20%5B37.593366%2C%20-122.057004%5D%2C%20%5B35.257052%2C%20-81.025957%5D%2C%20%5B27.834523%2C%20-82.349917%5D%2C%20%5B25.884482%2C%20-80.388499%5D%2C%20%5B29.89083%2C%20-95.41199%5D%2C%20%5B34.26786%2C%20-118.63556%5D%2C%20%5B44.933561%2C%20-123.074191%5D%2C%20%5B30.09603%2C%20-95.58024%5D%2C%20%5B41.045876%2C%20-73.767668%5D%2C%20%5B41.87132%2C%20-87.75471%5D%2C%20%5B41.347582%2C%20-81.858683%5D%2C%20%5B33.888992%2C%20-118.188797%5D%2C%20%5B25.996503%2C%20-80.150719%5D%2C%20%5B34.0767%2C%20-117.74506%5D%2C%20%5B41.95881%2C%20-87.7393%5D%2C%20%5B36.91478%2C%20-76.26478%5D%2C%20%5B28.054622%2C%20-82.453454%5D%2C%20%5B38.337253%2C%20-77.495917%5D%2C%20%5B39.00732%2C%20-94.50106%5D%2C%20%5B40.66973%2C%20-74.1781%5D%2C%20%5B34.100679%2C%20-118.316143%5D%2C%20%5B40.42059%2C%20-74.21003%5D%2C%20%5B33.780559%2C%20-117.210931%5D%2C%20%5B39.881934%2C%20-104.98769%5D%2C%20%5B40.74878%2C%20-73.896348%5D%2C%20%5B36.202922%2C%20-119.470773%5D%2C%20%5B34.017416%2C%20-118.143164%5D%2C%20%5B42.240471%2C%20-87.945427%5D%2C%20%5B32.770103%2C%20-96.801749%5D%2C%20%5B28.375095%2C%20-82.67834%5D%2C%20%5B27.462118%2C%20-82.538347%5D%2C%20%5B37.71696%2C%20-85.82926%5D%2C%20%5B39.79368%2C%20-86.03548%5D%2C%20%5B39.875984%2C%20-75.272706%5D%2C%20%5B29.87327%2C%20-95.40984%5D%2C%20%5B44.90682%2C%20-93.274623%5D%2C%20%5B25.685147%2C%20-80.42495%5D%2C%20%5B26.546164%2C%20-81.786186%5D%2C%20%5B29.77427%2C%20-95.32222%5D%2C%20%5B34.1708%2C%20-118.60571%5D%2C%20%5B41.52598%2C%20-81.65978%5D%2C%20%5B33.89129%2C%20-118.36169%5D%2C%20%5B39.005552%2C%20-78.377763%5D%2C%20%5B39.018273%2C%20-94.692681%5D%2C%20%5B28.35686%2C%20-80.70466%5D%2C%20%5B34.06902%2C%20-117.34901%5D%2C%20%5B41.746564%2C%20-87.855907%5D%2C%20%5B25.766857%2C%20-80.336372%5D%2C%20%5B42.88846%2C%20-123.239214%5D%2C%20%5B43.05618%2C%20-76.17363%5D%2C%20%5B37.551159%2C%20-120.847054%5D%2C%20%5B39.65321%2C%20-105.0527%5D%2C%20%5B27.94616%2C%20-82.46221%5D%2C%20%5B38.576828%2C%20-121.312054%5D%2C%20%5B39.99222%2C%20-86.12764%5D%2C%20%5B25.934836%2C%20-80.29371%5D%2C%20%5B35.220471%2C%20-80.751981%5D%2C%20%5B38.62605%2C%20-77.34622%5D%2C%20%5B25.702455%2C%20-80.332105%5D%2C%20%5B32.907539%2C%20-96.729608%5D%2C%20%5B33.982375%2C%20-118.281093%5D%2C%20%5B32.895274%2C%20-84.895628%5D%2C%20%5B35.28469%2C%20-81.19093%5D%2C%20%5B32.857627%2C%20-80.031828%5D%2C%20%5B37.42093%2C%20-122.09254%5D%2C%20%5B36.754849%2C%20-119.754011%5D%2C%20%5B35.224116%2C%20-80.847473%5D%2C%20%5B37.32709%2C%20-121.88048%5D%2C%20%5B29.83212%2C%20-95.17524%5D%2C%20%5B38.630769%2C%20-121.328141%5D%2C%20%5B29.735928%2C%20-95.501004%5D%2C%20%5B39.93415%2C%20-75.07371%5D%2C%20%5B35.204991%2C%20-119.009603%5D%2C%20%5B36.11764%2C%20-79.82812%5D%2C%20%5B32.33821%2C%20-86.17941%5D%2C%20%5B33.896312%2C%20-118.32651%5D%2C%20%5B36.21822%2C%20-115.24544%5D%2C%20%5B36.14111%2C%20-86.62797%5D%2C%20%5B42.544006%2C%20-77.949326%5D%2C%20%5B47.94768%2C%20-122.19579%5D%2C%20%5B41.84946%2C%20-71.41108%5D%2C%20%5B40.34871%2C%20-111.76994%5D%2C%20%5B32.52452%2C%20-96.82225%5D%2C%20%5B28.197373%2C%20-81.706324%5D%2C%20%5B28.661968%2C%20-81.401126%5D%2C%20%5B27.861995%2C%20-82.32652%5D%2C%20%5B37.67655%2C%20-122.11756%5D%2C%20%5B34.065178%2C%20-118.000058%5D%2C%20%5B33.950721%2C%20-84.357973%5D%2C%20%5B38.728289%2C%20-77.795806%5D%2C%20%5B32.821776%2C%20-97.31263%5D%2C%20%5B28.473476%2C%20-81.396745%5D%2C%20%5B37.73945%2C%20-121.5576%5D%2C%20%5B30.420415%2C%20-97.704393%5D%2C%20%5B35.19426%2C%20-80.87288%5D%2C%20%5B32.163291%2C%20-110.986534%5D%2C%20%5B32.718382%2C%20-117.105924%5D%2C%20%5B38.337296%2C%20-77.080947%5D%2C%20%5B37.5199%2C%20-122.35397%5D%2C%20%5B47.500773%2C%20-97.087329%5D%2C%20%5B38.664232%2C%20-121.244252%5D%2C%20%5B44.592531%2C%20-121.13201%5D%2C%20%5B29.95475%2C%20-90.082798%5D%2C%20%5B34.157166%2C%20-118.379384%5D%2C%20%5B29.968869%2C%20-90.052061%5D%2C%20%5B33.817473%2C%20-118.189147%5D%2C%20%5B33.48387%2C%20-117.141689%5D%2C%20%5B43.872248%2C%20-116.622388%5D%2C%20%5B33.461174%2C%20-112.082549%5D%2C%20%5B28.425243%2C%20-81.474407%5D%2C%20%5B33.735172%2C%20-117.285868%5D%2C%20%5B38.510695%2C%20-121.460241%5D%2C%20%5B29.80831%2C%20-95.32977%5D%2C%20%5B45.02485%2C%20-93.08956%5D%2C%20%5B34.26375%2C%20-119.011171%5D%2C%20%5B40.06647%2C%20-74.96585%5D%2C%20%5B38.510858%2C%20-121.333806%5D%2C%20%5B38.838488%2C%20-77.219061%5D%2C%20%5B45.25238%2C%20-93.55508%5D%2C%20%5B44.290032%2C%20-123.06079%5D%2C%20%5B43.76968%2C%20-123.07949%5D%2C%20%5B39.022718%2C%20-76.941365%5D%2C%20%5B39.725714%2C%20-105.029626%5D%2C%20%5B33.687214%2C%20-117.872459%5D%2C%20%5B34.041095%2C%20-117.998031%5D%2C%20%5B40.34919%2C%20-104.98121%5D%2C%20%5B39.09579%2C%20-120.94948%5D%2C%20%5B28.523914%2C%20-81.143811%5D%2C%20%5B36.079498%2C%20-86.959866%5D%2C%20%5B37.242793%2C%20-88.81931%5D%2C%20%5B33.969093%2C%20-117.690643%5D%2C%20%5B38.84533%2C%20-76.86302%5D%2C%20%5B33.773838%2C%20-117.905745%5D%2C%20%5B40.56974%2C%20-111.899804%5D%2C%20%5B42.297789%2C%20-83.973978%5D%2C%20%5B35.674431%2C%20-78.2439%5D%2C%20%5B28.66436%2C%20-81.34026%5D%2C%20%5B37.778999%2C%20-122.228598%5D%2C%20%5B41.68313%2C%20-88.07161%5D%2C%20%5B41.61669%2C%20-111.93288%5D%2C%20%5B41.40506%2C%20-73.93168%5D%2C%20%5B41.386259%2C%20-73.600019%5D%2C%20%5B34.036007%2C%20-117.322632%5D%2C%20%5B39.67053%2C%20-75.71061%5D%2C%20%5B38.476147%2C%20-121.424954%5D%2C%20%5B40.646753%2C%20-121.166645%5D%2C%20%5B40.63302%2C%20-73.97213%5D%2C%20%5B36.846043%2C%20-76.196317%5D%2C%20%5B34.135921%2C%20-117.399917%5D%2C%20%5B37.65338%2C%20-77.45091%5D%2C%20%5B42.87829%2C%20-78.87458%5D%2C%20%5B37.695568%2C%20-122.078788%5D%2C%20%5B44.64276%2C%20-123.06276%5D%2C%20%5B39.06309%2C%20-76.91591%5D%2C%20%5B34.04012%2C%20-118.57928%5D%2C%20%5B28.514622%2C%20-81.394915%5D%2C%20%5B33.973396%2C%20-118.168%5D%2C%20%5B37.51961%2C%20-77.4376%5D%2C%20%5B33.77874%2C%20-117.87569%5D%2C%20%5B34.31893%2C%20-118.49251%5D%2C%20%5B41.66148%2C%20-87.75291%5D%2C%20%5B40.286324%2C%20-75.263614%5D%2C%20%5B34.08172%2C%20-117.70718%5D%2C%20%5B43.163331%2C%20-83.479977%5D%2C%20%5B34.15141%2C%20-80.911707%5D%2C%20%5B33.86965%2C%20-117.74882%5D%2C%20%5B33.945003%2C%20-80.937799%5D%2C%20%5B36.967221%2C%20-76.296492%5D%2C%20%5B29.831885%2C%20-95.5623%5D%2C%20%5B30.418106%2C%20-91.10817%5D%2C%20%5B35.148087%2C%20-85.249251%5D%2C%20%5B38.649188%2C%20-121.383024%5D%2C%20%5B39.88476%2C%20-86.20979%5D%2C%20%5B41.50735%2C%20-74.07491%5D%2C%20%5B35.89821%2C%20-78.86738%5D%2C%20%5B38.827264%2C%20-77.1187%5D%2C%20%5B25.977078%2C%20-80.229993%5D%2C%20%5B34.043294%2C%20-118.272982%5D%2C%20%5B33.600142%2C%20-83.652036%5D%2C%20%5B33.245336%2C%20-117.15238%5D%2C%20%5B25.66688%2C%20-80.36949%5D%2C%20%5B39.046642%2C%20-121.226079%5D%2C%20%5B34.067432%2C%20-117.583756%5D%2C%20%5B34.076%2C%20-118.231542%5D%2C%20%5B25.94132%2C%20-80.18988%5D%2C%20%5B45.06967%2C%20-93.2859%5D%2C%20%5B27.700651%2C%20-82.455322%5D%2C%20%5B43.597387%2C%20-116.29598%5D%2C%20%5B41.09731%2C%20-73.80258%5D%2C%20%5B44.2569%2C%20-93.95917%5D%2C%20%5B38.410008%2C%20-120.555597%5D%2C%20%5B33.636339%2C%20-117.921987%5D%2C%20%5B41.67315%2C%20-87.66178%5D%2C%20%5B38.86878%2C%20-76.85715%5D%2C%20%5B30.42386%2C%20-91.14695%5D%2C%20%5B34.465492%2C%20-120.069083%5D%2C%20%5B32.72043%2C%20-96.82466%5D%2C%20%5B32.048155%2C%20-81.25899%5D%2C%20%5B41.90624%2C%20-87.93983%5D%2C%20%5B33.62894%2C%20-84.40039%5D%2C%20%5B34.27848%2C%20-85.226%5D%2C%20%5B39.81%2C%20-84.22539%5D%2C%20%5B34.05626%2C%20-118.24115%5D%2C%20%5B41.9812%2C%20-87.78203%5D%2C%20%5B45.50448%2C%20-122.43815%5D%2C%20%5B32.91235%2C%20-96.73667%5D%2C%20%5B40.230176%2C%20-75.275348%5D%2C%20%5B32.84951%2C%20-96.91786%5D%2C%20%5B40.891%2C%20-74.70901%5D%2C%20%5B25.709792%2C%20-80.409797%5D%2C%20%5B40.688005%2C%20-73.592144%5D%2C%20%5B47.87301%2C%20-122.27375%5D%2C%20%5B41.10637%2C%20-112.00682%5D%2C%20%5B37.81785%2C%20-122.25277%5D%2C%20%5B32.83708%2C%20-97.02354%5D%2C%20%5B42.37139%2C%20-85.65585%5D%2C%20%5B45.03458%2C%20-93.044294%5D%2C%20%5B43.567201%2C%20-119.891563%5D%2C%20%5B42.97068%2C%20-85.58673%5D%2C%20%5B34.13925%2C%20-118.71423%5D%2C%20%5B43.813935%2C%20-95.268056%5D%2C%20%5B35.206331%2C%20-80.758387%5D%2C%20%5B42.986817%2C%20-83.76818%5D%2C%20%5B38.66209%2C%20-120.93737%5D%2C%20%5B34.093578%2C%20-118.309183%5D%2C%20%5B37.851469%2C%20-122.222575%5D%2C%20%5B44.85519%2C%20-93.29819%5D%2C%20%5B45.057277%2C%20-123.953543%5D%2C%20%5B40.04347%2C%20-74.835588%5D%2C%20%5B41.704151%2C%20-86.208246%5D%2C%20%5B43.73085%2C%20-92.47925%5D%2C%20%5B40.69837%2C%20-74.25427%5D%2C%20%5B38.439847%2C%20-121.402796%5D%2C%20%5B40.02242%2C%20-79.08607%5D%2C%20%5B32.89851%2C%20-96.71481%5D%2C%20%5B42.290722%2C%20-83.443683%5D%2C%20%5B34.002995%2C%20-117.380554%5D%2C%20%5B47.84979%2C%20-122.25644%5D%2C%20%5B33.56764%2C%20-112.09961%5D%2C%20%5B39.372825%2C%20-123.322187%5D%2C%20%5B35.444722%2C%20-119.090833%5D%2C%20%5B45.21486%2C%20-118.02496%5D%2C%20%5B41.74907%2C%20-71.45227%5D%2C%20%5B37.54199%2C%20-77.39975%5D%2C%20%5B44.14159%2C%20-123.05286%5D%2C%20%5B33.23417%2C%20-87.638609%5D%2C%20%5B29.80154%2C%20-95.37191%5D%2C%20%5B33.082135%2C%20-97.026066%5D%2C%20%5B43.36564%2C%20-123.32934%5D%2C%20%5B34.15567%2C%20-118.29732%5D%2C%20%5B34.036331%2C%20-118.220234%5D%2C%20%5B34.22219%2C%20-117.40235%5D%2C%20%5B30.237178%2C%20-93.23471%5D%2C%20%5B41.13625%2C%20-112.06446%5D%2C%20%5B37.55187%2C%20-122.30963%5D%2C%20%5B35.244647%2C%20-80.920459%5D%2C%20%5B40.11417%2C%20-83.01651%5D%2C%20%5B40.277555%2C%20-76.862115%5D%2C%20%5B33.913861%2C%20-117.557541%5D%2C%20%5B32.7872%2C%20-96.62435%5D%2C%20%5B42.927402%2C%20-85.655509%5D%2C%20%5B40.530313%2C%20-74.334107%5D%2C%20%5B35.151008%2C%20-118.923531%5D%2C%20%5B37.706385%2C%20-121.078208%5D%2C%20%5B45.903528%2C%20-123.853951%5D%2C%20%5B30.461091%2C%20-87.299461%5D%2C%20%5B41.79733%2C%20-71.40356%5D%2C%20%5B36.764636%2C%20-119.850761%5D%2C%20%5B38.93173%2C%20-76.89584%5D%2C%20%5B34.275192%2C%20-118.536193%5D%2C%20%5B40.73629%2C%20-73.84483%5D%2C%20%5B40.391527%2C%20-92.207164%5D%2C%20%5B45.085501%2C%20-122.914113%5D%2C%20%5B47.682506%2C%20-122.184058%5D%2C%20%5B43.39186%2C%20-89.46705%5D%2C%20%5B42.67487%2C%20-88.98378%5D%2C%20%5B33.368747%2C%20-117.163755%5D%2C%20%5B34.23105%2C%20-118.266182%5D%2C%20%5B35.23215%2C%20-80.84484%5D%2C%20%5B34.18664%2C%20-118.47702%5D%2C%20%5B40.82199%2C%20-74.12204%5D%2C%20%5B41.452827%2C%20-88.195571%5D%2C%20%5B25.93579%2C%20-80.21654%5D%2C%20%5B41.56774%2C%20-87.34634%5D%2C%20%5B34.2682%2C%20-118.47205%5D%2C%20%5B38.1015%2C%20-122.22985%5D%2C%20%5B37.86951%2C%20-122.30475%5D%2C%20%5B34.12085%2C%20-117.87932%5D%2C%20%5B44.95165%2C%20-93.12154%5D%2C%20%5B39.94888%2C%20-75.18549%5D%2C%20%5B43.60741%2C%20-116.27408%5D%2C%20%5B28.784956%2C%20-82.545296%5D%2C%20%5B27.57387%2C%20-82.514373%5D%2C%20%5B34.068603%2C%20-117.376453%5D%2C%20%5B34.24899%2C%20-118.42711%5D%2C%20%5B33.70185%2C%20-117.85854%5D%2C%20%5B44.24762%2C%20-89.72492%5D%2C%20%5B39.121798%2C%20-121.634651%5D%2C%20%5B29.263137%2C%20-82.151939%5D%2C%20%5B34.281254%2C%20-118.671821%5D%2C%20%5B25.766528%2C%20-80.376863%5D%2C%20%5B37.475534%2C%20-120.853568%5D%2C%20%5B37.943675%2C%20-121.742028%5D%2C%20%5B35.22433%2C%20-80.89058%5D%2C%20%5B47.238465%2C%20-122.41642%5D%2C%20%5B30.494781%2C%20-87.222244%5D%2C%20%5B43.010184%2C%20-83.67494%5D%2C%20%5B40.737358%2C%20-73.974498%5D%2C%20%5B40.823588%2C%20-77.945348%5D%2C%20%5B32.379302%2C%20-111.134466%5D%2C%20%5B34.070709%2C%20-117.611468%5D%2C%20%5B32.57797%2C%20-96.82248%5D%2C%20%5B27.484801%2C%20-80.434985%5D%2C%20%5B30.166302%2C%20-97.692425%5D%2C%20%5B29.27085%2C%20-82.194396%5D%2C%20%5B33.938175%2C%20-118.309023%5D%2C%20%5B39.06266%2C%20-76.64008%5D%2C%20%5B32.367382%2C%20-95.311076%5D%2C%20%5B45.069355%2C%20-93.278836%5D%2C%20%5B37.251924%2C%20-121.937438%5D%2C%20%5B32.27211%2C%20-111.009368%5D%2C%20%5B44.020545%2C%20-121.370041%5D%2C%20%5B33.92321%2C%20-118.20573%5D%2C%20%5B41.22237%2C%20-111.97048%5D%2C%20%5B36.269175%2C%20-119.780948%5D%2C%20%5B39.38345%2C%20-104.8606%5D%2C%20%5B41.603429%2C%20-93.77678%5D%2C%20%5B39.310961%2C%20-120.541227%5D%2C%20%5B32.9541%2C%20-117.24464%5D%2C%20%5B34.03345%2C%20-118.14574%5D%2C%20%5B35.7942%2C%20-78.687779%5D%2C%20%5B34.065932%2C%20-117.48231%5D%2C%20%5B37.302322%2C%20-120.575023%5D%2C%20%5B44.496188%2C%20-122.845173%5D%2C%20%5B43.23031%2C%20-77.50912%5D%2C%20%5B30.34002%2C%20-83.09628%5D%2C%20%5B38.63685%2C%20-77.26929%5D%2C%20%5B40.60938%2C%20-74.09144%5D%2C%20%5B33.67247%2C%20-84.32969%5D%2C%20%5B35.25834%2C%20-80.79479%5D%2C%20%5B34.075563%2C%20-81.150243%5D%2C%20%5B41.11023%2C%20-73.401701%5D%2C%20%5B37.739549%2C%20-121.557744%5D%2C%20%5B47.68883%2C%20-95.00036%5D%2C%20%5B42.722807%2C%20-84.50663%5D%2C%20%5B34.03351%2C%20-117.32421%5D%2C%20%5B34.07382%2C%20-118.219275%5D%2C%20%5B42.759786%2C%20-73.752175%5D%2C%20%5B44.946216%2C%20-93.03979%5D%2C%20%5B33.87498%2C%20-117.54523%5D%2C%20%5B25.916372%2C%20-80.210184%5D%2C%20%5B35.911026%2C%20-78.767791%5D%2C%20%5B33.00065%2C%20-111.7508%5D%2C%20%5B40.818918%2C%20-73.298496%5D%2C%20%5B34.147911%2C%20-118.081926%5D%2C%20%5B25.695889%2C%20-80.3011%5D%2C%20%5B31.78149%2C%20-106.41175%5D%2C%20%5B34.365024%2C%20-118.503463%5D%2C%20%5B36.195369%2C%20-120.207048%5D%2C%20%5B29.150082%2C%20-82.218819%5D%2C%20%5B40.507867%2C%20-122.339344%5D%2C%20%5B32.696083%2C%20-96.877852%5D%2C%20%5B34.076479%2C%20-118.286799%5D%2C%20%5B41.473903%2C%20-81.703989%5D%2C%20%5B38.44112%2C%20-82.12724%5D%2C%20%5B40.087666%2C%20-75.135378%5D%2C%20%5B40.63654%2C%20-104.53015%5D%2C%20%5B33.907814%2C%20-118.067895%5D%2C%20%5B34.11568%2C%20-117.97691%5D%2C%20%5B40.067758%2C%20-75.321211%5D%2C%20%5B25.763268%2C%20-80.297888%5D%2C%20%5B35.26685%2C%20-118.985342%5D%2C%20%5B33.543666%2C%20-86.557564%5D%2C%20%5B40.81555%2C%20-73.83626%5D%2C%20%5B33.9753%2C%20-80.95687%5D%2C%20%5B33.876906%2C%20-118.154776%5D%2C%20%5B39.07754%2C%20-77.0017%5D%2C%20%5B34.14858%2C%20-118.06331%5D%2C%20%5B37.99977%2C%20-122.03811%5D%2C%20%5B38.90488%2C%20-77.01618%5D%2C%20%5B42.01096%2C%20-71.04167%5D%2C%20%5B34.044224%2C%20-118.16703%5D%2C%20%5B33.85951%2C%20-118.29054%5D%2C%20%5B38.99999%2C%20-76.99065%5D%2C%20%5B35.050272%2C%20-80.768409%5D%2C%20%5B43.130575%2C%20-123.364073%5D%2C%20%5B35.129517%2C%20-80.940774%5D%2C%20%5B26.431335%2C%20-81.807398%5D%2C%20%5B30.344592%2C%20-81.668297%5D%2C%20%5B34.06787%2C%20-117.51727%5D%2C%20%5B46.319657%2C%20-122.914835%5D%2C%20%5B33.460249%2C%20-117.658617%5D%2C%20%5B38.98456%2C%20-77.15894%5D%2C%20%5B30.39278%2C%20-91.08251%5D%2C%20%5B25.78613%2C%20-80.213043%5D%2C%20%5B29.84691%2C%20-95.5018%5D%2C%20%5B38.498349%2C%20-121.448527%5D%2C%20%5B36.157614%2C%20-86.759833%5D%2C%20%5B40.89808%2C%20-74.24754%5D%2C%20%5B40.712661%2C%20-111.88827%5D%2C%20%5B29.153498%2C%20-82.638608%5D%2C%20%5B34.031102%2C%20-118.2746%5D%2C%20%5B45.01034%2C%20-93.17211%5D%2C%20%5B39.27029%2C%20-76.68231%5D%2C%20%5B34.50287%2C%20-117.32458%5D%2C%20%5B27.860555%2C%20-82.326705%5D%2C%20%5B35.31763%2C%20-80.77632%5D%2C%20%5B41.854412%2C%20-87.820529%5D%2C%20%5B41.32215%2C%20-72.34015%5D%2C%20%5B33.987493%2C%20-118.137535%5D%2C%20%5B42.96325%2C%20-85.70786%5D%2C%20%5B33.92741%2C%20-117.2886%5D%2C%20%5B29.47995%2C%20-98.36166%5D%2C%20%5B40.114887%2C%20-74.706274%5D%2C%20%5B33.745075%2C%20-84.426981%5D%2C%20%5B42.683134%2C%20-73.843968%5D%2C%20%5B40.04373%2C%20-75.0027%5D%2C%20%5B27.868927%2C%20-82.326708%5D%2C%20%5B45.50835%2C%20-122.77851%5D%2C%20%5B29.776879%2C%20-95.384017%5D%2C%20%5B41.8153%2C%20-87.63048%5D%2C%20%5B36.55547%2C%20-119.60607%5D%2C%20%5B32.72539%2C%20-97.06256%5D%2C%20%5B37.04547%2C%20-120.161391%5D%2C%20%5B45.36395%2C%20-122.60622%5D%2C%20%5B32.814362%2C%20-117.114897%5D%2C%20%5B38.8671%2C%20-77.04889%5D%2C%20%5B40.84624%2C%20-111.91454%5D%2C%20%5B39.033039%2C%20-76.944133%5D%2C%20%5B38.64322%2C%20-90.4493%5D%2C%20%5B33.994079%2C%20-118.012927%5D%2C%20%5B33.48574%2C%20-112.041%5D%2C%20%5B38.77419%2C%20-77.18122%5D%2C%20%5B35.91782%2C%20-86.82392%5D%2C%20%5B38.01214%2C%20-121.8678%5D%2C%20%5B45.03742%2C%20-93.01765%5D%2C%20%5B38.794242%2C%20-121.877194%5D%2C%20%5B33.349255%2C%20-111.893143%5D%2C%20%5B35.021964%2C%20-80.848911%5D%2C%20%5B34.731475%2C%20-120.235964%5D%2C%20%5B25.89281%2C%20-80.20962%5D%2C%20%5B35.88094%2C%20-86.47197%5D%2C%20%5B33.928431%2C%20-118.237792%5D%2C%20%5B38.13613%2C%20-122.22213%5D%2C%20%5B28.300453%2C%20-81.374595%5D%2C%20%5B45.381745%2C%20-122.579975%5D%2C%20%5B37.255829%2C%20-121.794461%5D%2C%20%5B43.11283%2C%20-77.80355%5D%2C%20%5B35.119147%2C%20-80.80778%5D%2C%20%5B33.52852%2C%20-112.11241%5D%2C%20%5B34.75954%2C%20-82.47439%5D%2C%20%5B32.89399%2C%20-96.480789%5D%2C%20%5B34.043306%2C%20-118.1692%5D%2C%20%5B32.63953%2C%20-117.09988%5D%2C%20%5B32.77849%2C%20-117.115396%5D%2C%20%5B37.45096%2C%20-121.89278%5D%2C%20%5B37.72305%2C%20-121.10104%5D%2C%20%5B36.164299%2C%20-86.763185%5D%2C%20%5B37.34831%2C%20-121.86009%5D%2C%20%5B41.77681%2C%20-71.426442%5D%2C%20%5B33.885987%2C%20-84.4676%5D%2C%20%5B44.05886%2C%20-93.29191%5D%2C%20%5B35.246915%2C%20-80.85315%5D%2C%20%5B32.979967%2C%20-117.25323%5D%2C%20%5B28.287788%2C%20-80.736926%5D%2C%20%5B40.68168%2C%20-73.69256%5D%2C%20%5B47.35687%2C%20-122.24483%5D%2C%20%5B30.41077%2C%20-91.10562%5D%2C%20%5B45.34322%2C%20-118.22672%5D%2C%20%5B33.689012%2C%20-117.919357%5D%2C%20%5B40.17085%2C%20-111.64649%5D%2C%20%5B41.72707%2C%20-72.76241%5D%2C%20%5B37.700144%2C%20-121.073827%5D%2C%20%5B34.05315%2C%20-118.00225%5D%2C%20%5B45.11449%2C%20-88.35665%5D%2C%20%5B45.05866%2C%20-123.612929%5D%2C%20%5B42.343958%2C%20-123.567322%5D%2C%20%5B44.951256%2C%20-93.098372%5D%2C%20%5B32.969495%2C%20-117.24902%5D%2C%20%5B32.332244%2C%20-95.31126%5D%2C%20%5B30.3666%2C%20-91.63324%5D%2C%20%5B27.954132%2C%20-82.507007%5D%2C%20%5B44.716104%2C%20-117.752462%5D%2C%20%5B40.101458%2C%20-111.635456%5D%2C%20%5B35.542799%2C%20-82.915588%5D%2C%20%5B40.506346%2C%20-111.413499%5D%2C%20%5B36.25619%2C%20-80.36093%5D%2C%20%5B28.40429%2C%20-81.23761%5D%2C%20%5B40.101576%2C%20-75.398242%5D%2C%20%5B33.80326%2C%20-118.13723%5D%2C%20%5B33.818685%2C%20-117.240212%5D%2C%20%5B30.59143%2C%20-87.175019%5D%2C%20%5B37.35478%2C%20-122.11216%5D%2C%20%5B37.42057%2C%20-122.09174%5D%2C%20%5B25.731815%2C%20-80.318244%5D%2C%20%5B36.045618%2C%20-86.719762%5D%2C%20%5B38.52825%2C%20-121.51933%5D%2C%20%5B40.06525%2C%20-76.28433%5D%2C%20%5B40.951656%2C%20-74.072645%5D%2C%20%5B36.97969%2C%20-120.08261%5D%2C%20%5B33.46196%2C%20-112.13976%5D%2C%20%5B41.95356%2C%20-87.88176%5D%2C%20%5B44.8597%2C%20-93.366%5D%2C%20%5B28.540192%2C%20-81.309043%5D%2C%20%5B40.68817%2C%20-73.72297%5D%2C%20%5B32.93943%2C%20-117.24165%5D%2C%20%5B25.98034%2C%20-80.1657%5D%2C%20%5B40.38419%2C%20-111.83064%5D%2C%20%5B25.737763%2C%20-80.367756%5D%2C%20%5B29.835173%2C%20-95.410779%5D%2C%20%5B33.781381%2C%20-117.21248%5D%2C%20%5B39.16564%2C%20-77.38914%5D%2C%20%5B42.231779%2C%20-83.583092%5D%2C%20%5B47.152904%2C%20-93.555083%5D%2C%20%5B36.921123%2C%20-119.733594%5D%2C%20%5B38.95448%2C%20-76.07927%5D%2C%20%5B40.30735%2C%20-75.9002%5D%2C%20%5B28.552982%2C%20-81.394589%5D%2C%20%5B37.99184%2C%20-122.307909%5D%2C%20%5B33.974934%2C%20-79.180802%5D%2C%20%5B44.843884%2C%20-93.059467%5D%2C%20%5B40.096091%2C%20-75.296195%5D%2C%20%5B40.69987%2C%20-111.87694%5D%2C%20%5B40.504073%2C%20-111.901261%5D%2C%20%5B37.824282%2C%20-122.267975%5D%2C%20%5B40.19728%2C%20-74.79417%5D%2C%20%5B45.463414%2C%20-122.57909%5D%2C%20%5B42.72082%2C%20-88.98676%5D%2C%20%5B37.562756%2C%20-122.271491%5D%2C%20%5B36.165801%2C%20-120.869897%5D%2C%20%5B36.882019%2C%20-76.431156%5D%2C%20%5B39.62476%2C%20-84.22481%5D%2C%20%5B39.325944%2C%20-120.600658%5D%2C%20%5B38.68873%2C%20-77.786496%5D%2C%20%5B33.97056%2C%20-118.3753%5D%2C%20%5B34.1211%2C%20-118.47972%5D%2C%20%5B32.33758%2C%20-111.0882%5D%2C%20%5B26.688765%2C%20-80.067152%5D%2C%20%5B39.239763%2C%20-76.648575%5D%2C%20%5B28.553091%2C%20-81.310659%5D%2C%20%5B30.301089%2C%20-97.738865%5D%2C%20%5B38.581537%2C%20-121.406118%5D%2C%20%5B33.702989%2C%20-84.182066%5D%2C%20%5B39.10533%2C%20-94.684284%5D%2C%20%5B27.946204%2C%20-82.746%5D%2C%20%5B42.865101%2C%20-82.553426%5D%2C%20%5B38.671928%2C%20-77.247673%5D%2C%20%5B35.042623%2C%20-111.733622%5D%2C%20%5B40.71201%2C%20-111.80119%5D%2C%20%5B25.824384%2C%20-80.31377%5D%2C%20%5B33.87629%2C%20-118.12518%5D%2C%20%5B33.931046%2C%20-118.265158%5D%2C%20%5B40.727061%2C%20-73.870507%5D%2C%20%5B35.841191%2C%20-78.678479%5D%2C%20%5B40.500325%2C%20-74.405953%5D%2C%20%5B39.01576%2C%20-77.00142%5D%2C%20%5B44.996413%2C%20-92.984689%5D%2C%20%5B44.413012%2C%20-123.903222%5D%2C%20%5B37.81803%2C%20-96.90422%5D%2C%20%5B27.57448%2C%20-82.51473%5D%2C%20%5B34.135717%2C%20-118.360258%5D%2C%20%5B39.03757%2C%20-94.36213%5D%2C%20%5B38.646907%2C%20-90.191109%5D%2C%20%5B34.6165%2C%20-117.826885%5D%2C%20%5B41.268156%2C%20-72.974721%5D%2C%20%5B35.69676%2C%20-119.06383%5D%2C%20%5B37.37822%2C%20-77.409%5D%2C%20%5B35.540681%2C%20-120.713394%5D%2C%20%5B35.85501%2C%20-78.583289%5D%2C%20%5B36.15884%2C%20-115.14755%5D%2C%20%5B35.21174%2C%20-80.85769%5D%2C%20%5B39.11344%2C%20-77.19075%5D%2C%20%5B32.295285%2C%20-95.278927%5D%2C%20%5B34.419444%2C%20-119.686944%5D%2C%20%5B33.823807%2C%20-118.290215%5D%2C%20%5B40.300427%2C%20-79.922774%5D%2C%20%5B33.83125%2C%20-118.25534%5D%2C%20%5B43.196772%2C%20-77.551771%5D%2C%20%5B26.619388%2C%20-80.067793%5D%2C%20%5B27.196645%2C%20-82.490113%5D%2C%20%5B39.358763%2C%20-120.141041%5D%2C%20%5B34.12057%2C%20-112.94645%5D%2C%20%5B45.42097%2C%20-122.74397%5D%2C%20%5B37.361122%2C%20-79.961231%5D%2C%20%5B32.3096%2C%20-86.8513%5D%2C%20%5B39.74008%2C%20-84.19177%5D%2C%20%5B32.77742%2C%20-96.78339%5D%2C%20%5B44.54735%2C%20-117.42069%5D%2C%20%5B37.713796%2C%20-122.451492%5D%2C%20%5B45.22246%2C%20-93.02767%5D%2C%20%5B28.400984%2C%20-80.748833%5D%2C%20%5B40.546357%2C%20-78.476853%5D%2C%20%5B45.108693%2C%20-93.301413%5D%2C%20%5B34.10105%2C%20-118.24878%5D%2C%20%5B34.0412%2C%20-118.06911%5D%2C%20%5B35.81146%2C%20-78.60261%5D%2C%20%5B34.09723%2C%20-118.31378%5D%2C%20%5B39.321901%2C%20-120.822604%5D%2C%20%5B34.034136%2C%20-118.350206%5D%2C%20%5B29.940289%2C%20-90.064494%5D%2C%20%5B44.032897%2C%20-93.247106%5D%2C%20%5B39.617897%2C%20-104.898058%5D%2C%20%5B32.92523%2C%20-96.793463%5D%2C%20%5B32.67823%2C%20-96.681296%5D%2C%20%5B40.03037%2C%20-75.46601%5D%2C%20%5B32.92736%2C%20-96.9012%5D%2C%20%5B27.511642%2C%20-81.514575%5D%2C%20%5B34.128947%2C%20-117.938283%5D%2C%20%5B36.298477%2C%20-119.709238%5D%2C%20%5B40.72693%2C%20-74.13041%5D%2C%20%5B39.32212%2C%20-76.46334%5D%2C%20%5B36.220031%2C%20-86.774774%5D%2C%20%5B34.07893%2C%20-118.22752%5D%2C%20%5B38.06626%2C%20-112.6737%5D%2C%20%5B40.85153%2C%20-73.95234%5D%2C%20%5B43.19838%2C%20-77.94362%5D%2C%20%5B36.086133%2C%20-86.729388%5D%2C%20%5B34.759273%2C%20-92.327671%5D%2C%20%5B25.925341%2C%20-80.153943%5D%2C%20%5B45.212869%2C%20-93.587606%5D%2C%20%5B41.62325%2C%20-87.68978%5D%2C%20%5B44.585243%2C%20-123.06212%5D%2C%20%5B38.70387%2C%20-121.3637%5D%2C%20%5B33.9041%2C%20-118.10537%5D%2C%20%5B43.072688%2C%20-86.078254%5D%2C%20%5B39.733336%2C%20-84.180362%5D%2C%20%5B44.841953%2C%20-124.049001%5D%2C%20%5B26.10233%2C%20-80.21825%5D%2C%20%5B32.71921%2C%20-117.09664%5D%2C%20%5B28.796559%2C%20-81.345188%5D%2C%20%5B40.73725%2C%20-73.59127%5D%2C%20%5B33.430506%2C%20-117.14532%5D%2C%20%5B34.136677%2C%20-117.554043%5D%2C%20%5B34.13569%2C%20-117.37457%5D%2C%20%5B41.05758%2C%20-73.81408%5D%2C%20%5B44.644607%2C%20-123.06006%5D%2C%20%5B39.5637%2C%20-105.02719%5D%2C%20%5B37.56034%2C%20-122.0349%5D%2C%20%5B33.859914%2C%20-118.29918%5D%2C%20%5B28.531118%2C%20-81.39705%5D%2C%20%5B44.79909%2C%20-93.28955%5D%2C%20%5B33.875589%2C%20-118.193097%5D%2C%20%5B42.319803%2C%20-88.004481%5D%2C%20%5B29.050318%2C%20-82.167883%5D%2C%20%5B33.91297%2C%20-118.12773%5D%2C%20%5B40.20972%2C%20-76.02819%5D%2C%20%5B34.02548%2C%20-117.11583%5D%2C%20%5B29.51639%2C%20-98.52808%5D%2C%20%5B36.050954%2C%20-120.200273%5D%2C%20%5B33.71443%2C%20-84.26864%5D%2C%20%5B32.443976%2C%20-93.945388%5D%2C%20%5B44.858797%2C%20-93.329039%5D%2C%20%5B42.898739%2C%20-85.677791%5D%2C%20%5B29.726446%2C%20-95.459957%5D%2C%20%5B37.189525%2C%20-93.292582%5D%2C%20%5B35.35437%2C%20-118.91407%5D%2C%20%5B41.86044%2C%20-88.00479%5D%2C%20%5B40.67948%2C%20-73.70213%5D%2C%20%5B33.876492%2C%20-118.091502%5D%2C%20%5B39.10524%2C%20-94.71631%5D%2C%20%5B34.16469%2C%20-118.47338%5D%2C%20%5B40.563701%2C%20-74.323507%5D%2C%20%5B31.95759%2C%20-81.33141%5D%2C%20%5B45.06938%2C%20-93.27892%5D%2C%20%5B44.77788%2C%20-93.378092%5D%2C%20%5B38.14082%2C%20-121.25912%5D%2C%20%5B36.759135%2C%20-76.274639%5D%2C%20%5B39.31842%2C%20-76.65245%5D%2C%20%5B43.637991%2C%20-123.546448%5D%2C%20%5B39.811%2C%20-86.04568%5D%2C%20%5B37.469955%2C%20-121.908648%5D%2C%20%5B37.679451%2C%20-97.188174%5D%2C%20%5B34.445592%2C%20-91.626941%5D%2C%20%5B41.58277%2C%20-87.73366%5D%2C%20%5B37.873618%2C%20-121.253452%5D%2C%20%5B33.53888%2C%20-84.26599%5D%2C%20%5B41.40732%2C%20-90.01097%5D%2C%20%5B44.879804%2C%20-93.025113%5D%2C%20%5B36.03445%2C%20-79.797096%5D%2C%20%5B45.3943%2C%20-122.42332%5D%2C%20%5B27.4623%2C%20-82.57536%5D%2C%20%5B44.87452%2C%20-93.03533%5D%2C%20%5B40.03358%2C%20-82.90339%5D%2C%20%5B30.06957%2C%20-81.4986%5D%2C%20%5B37.631562%2C%20-122.084009%5D%2C%20%5B39.07185%2C%20-94.52364%5D%2C%20%5B38.97714%2C%20-93.41857%5D%2C%20%5B33.669415%2C%20-117.891401%5D%2C%20%5B35.529821%2C%20-119.1898%5D%2C%20%5B39.389%2C%20-76.57105%5D%2C%20%5B34.379357%2C%20-118.567143%5D%2C%20%5B33.897858%2C%20-117.27489%5D%2C%20%5B25.671986%2C%20-80.382619%5D%2C%20%5B42.43983%2C%20-83.21961%5D%2C%20%5B30.48902%2C%20-84.01912%5D%2C%20%5B38.249298%2C%20-78.956218%5D%2C%20%5B41.94904%2C%20-87.92024%5D%2C%20%5B39.38413%2C%20-77.41179%5D%2C%20%5B37.69085%2C%20-122.0851%5D%2C%20%5B28.404722%2C%20-80.705791%5D%2C%20%5B43.887945%2C%20-94.078019%5D%2C%20%5B35.91832%2C%20-78.46538%5D%2C%20%5B45.52747%2C%20-122.60957%5D%2C%20%5B25.81251%2C%20-80.21926%5D%2C%20%5B34.52958%2C%20-112.47586%5D%2C%20%5B34.017475%2C%20-117.470975%5D%2C%20%5B40.818489%2C%20-73.293968%5D%2C%20%5B31.73976%2C%20-106.32471%5D%2C%20%5B34.078362%2C%20-117.741556%5D%2C%20%5B37.0368%2C%20-121.30932%5D%2C%20%5B27.418278%2C%20-82.546773%5D%2C%20%5B45.282132%2C%20-123.824193%5D%2C%20%5B43.010388%2C%20-83.679747%5D%2C%20%5B35.21017%2C%20-80.90816%5D%2C%20%5B29.51495%2C%20-98.55327%5D%2C%20%5B40.710468%2C%20-74.148518%5D%2C%20%5B39.343018%2C%20-120.337091%5D%2C%20%5B29.73213%2C%20-95.46023%5D%2C%20%5B34.114371%2C%20-118.242156%5D%2C%20%5B33.87657%2C%20-118.07615%5D%2C%20%5B33.56727%2C%20-112.199243%5D%2C%20%5B47.49359%2C%20-122.19195%5D%2C%20%5B36.04871%2C%20-79.68727%5D%2C%20%5B33.82429%2C%20-117.7164%5D%2C%20%5B42.137619%2C%20-88.48719%5D%2C%20%5B25.789102%2C%20-80.204365%5D%2C%20%5B28.492151%2C%20-82.375906%5D%2C%20%5B37.92223%2C%20-122.06138%5D%2C%20%5B35.186739%2C%20-80.766108%5D%2C%20%5B40.695055%2C%20-73.540215%5D%2C%20%5B39.96365%2C%20-82.84278%5D%2C%20%5B37.89738%2C%20-122.08167%5D%2C%20%5B36.211263%2C%20-119.645863%5D%2C%20%5B29.79%2C%20-82.5153%5D%2C%20%5B34.101757%2C%20-117.301948%5D%2C%20%5B43.5135%2C%20-119.02014%5D%2C%20%5B47.64291%2C%20-117.584561%5D%2C%20%5B41.81853%2C%20-71.39428%5D%2C%20%5B35.54846%2C%20-119.474486%5D%2C%20%5B34.048056%2C%20-117.530562%5D%2C%20%5B39.29341%2C%20-76.68937%5D%2C%20%5B41.29209%2C%20-72.92079%5D%2C%20%5B40.610159%2C%20-74.03329%5D%2C%20%5B34.036747%2C%20-118.317745%5D%2C%20%5B39.940107%2C%20-75.011143%5D%2C%20%5B35.393582%2C%20-118.970507%5D%2C%20%5B41.429608%2C%20-112.057428%5D%2C%20%5B26.545586%2C%20-80.071204%5D%2C%20%5B38.63969%2C%20-121.48505%5D%2C%20%5B32.711373%2C%20-117.100514%5D%2C%20%5B34.572563%2C%20-82.368654%5D%2C%20%5B36.82916%2C%20-76.3092%5D%2C%20%5B35.763448%2C%20-78.636928%5D%2C%20%5B40.726334%2C%20-111.981569%5D%2C%20%5B47.61958%2C%20-122.32865%5D%2C%20%5B37.53008%2C%20-77.326101%5D%2C%20%5B36.26305%2C%20-86.71191%5D%2C%20%5B36.254404%2C%20-120.240706%5D%2C%20%5B38.863803%2C%20-77.336529%5D%2C%20%5B42.641051%2C%20-123.38771%5D%2C%20%5B34.03567%2C%20-118.21871%5D%2C%20%5B39.623%2C%20-77.408861%5D%2C%20%5B43.912501%2C%20-69.984227%5D%2C%20%5B34.167975%2C%20-118.588151%5D%2C%20%5B37.73936%2C%20-121.59071%5D%2C%20%5B40.75292%2C%20-74.19441%5D%2C%20%5B34.090527%2C%20-117.30201%5D%2C%20%5B28.063238%2C%20-82.700393%5D%2C%20%5B43.50954%2C%20-123.3164%5D%2C%20%5B36.735998%2C%20-119.609988%5D%2C%20%5B37.69813%2C%20-121.94081%5D%2C%20%5B28.603068%2C%20-81.72212%5D%2C%20%5B34.106595%2C%20-117.881476%5D%2C%20%5B37.008472%2C%20-121.95348%5D%2C%20%5B34.02362%2C%20-118.24268%5D%2C%20%5B37.944295%2C%20-76.835258%5D%2C%20%5B32.89851%2C%20-96.71481%5D%2C%20%5B33.578407%2C%20-84.348772%5D%2C%20%5B38.69506%2C%20-90.26036%5D%2C%20%5B29.454763%2C%20-98.515549%5D%2C%20%5B25.939923%2C%20-80.273687%5D%2C%20%5B38.659593%2C%20-122.595155%5D%2C%20%5B28.381032%2C%20-81.404624%5D%2C%20%5B35.82633%2C%20-78.8059%5D%2C%20%5B38.168709%2C%20-122.896109%5D%2C%20%5B39.23033%2C%20-76.51011%5D%2C%20%5B40.76282%2C%20-73.58914%5D%2C%20%5B34.090772%2C%20-118.306354%5D%2C%20%5B33.95778%2C%20-117.85988%5D%2C%20%5B35.49329%2C%20-97.61007%5D%2C%20%5B33.95983%2C%20-118.11462%5D%2C%20%5B34.05099%2C%20-117.77856%5D%2C%20%5B35.455612%2C%20-94.322241%5D%2C%20%5B39.732489%2C%20-84.216223%5D%2C%20%5B37.270979%2C%20-121.947202%5D%2C%20%5B32.8683%2C%20-96.66794%5D%2C%20%5B45.12812%2C%20-93.48509%5D%2C%20%5B41.87402%2C%20-87.73034%5D%2C%20%5B39.015959%2C%20-77.016123%5D%2C%20%5B38.018752%2C%20-121.937094%5D%2C%20%5B44.305529%2C%20-88.73887%5D%2C%20%5B39.79392%2C%20-86.2857%5D%2C%20%5B38.959216%2C%20-85.834505%5D%2C%20%5B34.117697%2C%20-117.84633%5D%2C%20%5B42.405709%2C%20-83.074926%5D%2C%20%5B38.57968%2C%20-90.44719%5D%2C%20%5B30.439645%2C%20-91.200141%5D%2C%20%5B33.78948%2C%20-117.88787%5D%2C%20%5B40.76115%2C%20-111.94991%5D%2C%20%5B44.20705%2C%20-93.26204%5D%2C%20%5B33.30365%2C%20-83.84894%5D%2C%20%5B40.66834%2C%20-89.57214%5D%2C%20%5B44.860544%2C%20-93.323142%5D%2C%20%5B28.54108%2C%20-81.28589%5D%2C%20%5B33.7602%2C%20-85.29362%5D%2C%20%5B33.96446%2C%20-117.32559%5D%2C%20%5B37.66013%2C%20-122.10392%5D%2C%20%5B41.94606%2C%20-87.75199%5D%2C%20%5B36.04555%2C%20-79.84561%5D%2C%20%5B41.055189%2C%20-92.373486%5D%2C%20%5B34.40735%2C%20-118.580114%5D%2C%20%5B26.009739%2C%20-80.248239%5D%2C%20%5B37.491449%2C%20-81.101327%5D%2C%20%5B40.82546%2C%20-73.86457%5D%2C%20%5B28.552533%2C%20-81.430846%5D%2C%20%5B39.012418%2C%20-76.495603%5D%2C%20%5B39.23313%2C%20-76.68891%5D%2C%20%5B33.917048%2C%20-118.080146%5D%2C%20%5B37.847031%2C%20-77.397841%5D%2C%20%5B47.61859%2C%20-122.35742%5D%2C%20%5B36.300383%2C%20-86.711193%5D%2C%20%5B37.767889%2C%20-122.220235%5D%2C%20%5B35.81163%2C%20-78.60274%5D%2C%20%5B45.180296%2C%20-119.688106%5D%2C%20%5B34.12025%2C%20-117.73637%5D%2C%20%5B33.45059%2C%20-117.130297%5D%2C%20%5B38.6167%2C%20-121.42048%5D%2C%20%5B37.39631%2C%20-122.01527%5D%2C%20%5B40.84508%2C%20-73.9192%5D%2C%20%5B47.510186%2C%20-94.967342%5D%2C%20%5B38.244831%2C%20-122.685942%5D%2C%20%5B42.64601%2C%20-73.59669%5D%2C%20%5B25.73589%2C%20-80.319411%5D%2C%20%5B34.128279%2C%20-117.505956%5D%2C%20%5B33.873314%2C%20-118.248765%5D%2C%20%5B33.38634%2C%20-111.80013%5D%2C%20%5B44.21267%2C%20-93.55803%5D%2C%20%5B32.257562%2C%20-110.980201%5D%2C%20%5B47.44243%2C%20-122.217375%5D%2C%20%5B27.926622%2C%20-82.401879%5D%2C%20%5B36.06042%2C%20-95.88632%5D%2C%20%5B35.82988%2C%20-78.76007%5D%2C%20%5B42.10849%2C%20-80.04983%5D%2C%20%5B38.81738%2C%20-90.95963%5D%2C%20%5B35.40628%2C%20-97.44128%5D%2C%20%5B33.945478%2C%20-118.291892%5D%2C%20%5B47.203102%2C%20-93.529822%5D%2C%20%5B40.3488%2C%20-79.575%5D%2C%20%5B42.46204%2C%20-73.59238%5D%2C%20%5B38.930343%2C%20-76.897269%5D%2C%20%5B43.052726%2C%20-83.812347%5D%2C%20%5B35.88613%2C%20-78.52585%5D%2C%20%5B33.988754%2C%20-118.37752%5D%2C%20%5B38.7498%2C%20-77.24417%5D%2C%20%5B25.90498%2C%20-80.32467%5D%2C%20%5B30.460354%2C%20-91.088608%5D%2C%20%5B34.441158%2C%20-119.815566%5D%2C%20%5B33.00224%2C%20-117.25751%5D%2C%20%5B37.758918%2C%20-120.865271%5D%2C%20%5B39.113248%2C%20-121.558374%5D%2C%20%5B33.952571%2C%20-117.303482%5D%2C%20%5B33.967874%2C%20-118.083128%5D%2C%20%5B44.93291%2C%20-93.07175%5D%2C%20%5B25.98034%2C%20-80.1657%5D%2C%20%5B33.173752%2C%20-87.515111%5D%2C%20%5B36.895124%2C%20-121.556282%5D%2C%20%5B33.943628%2C%20-118.279723%5D%2C%20%5B34.070481%2C%20-117.396026%5D%2C%20%5B38.67107%2C%20-121.591089%5D%2C%20%5B30.36282%2C%20-97.697188%5D%2C%20%5B33.711182%2C%20-117.954511%5D%2C%20%5B41.24316%2C%20-73.1093%5D%2C%20%5B37.05417%2C%20-111.63395%5D%2C%20%5B35.2901%2C%20-80.76352%5D%2C%20%5B42.318886%2C%20-83.166884%5D%2C%20%5B30.20491%2C%20-97.77482%5D%2C%20%5B34.82076%2C%20-82.42958%5D%2C%20%5B39.907869%2C%20-76.703442%5D%2C%20%5B45.504891%2C%20-122.57908%5D%2C%20%5B40.768626%2C%20-74.023559%5D%2C%20%5B34.093578%2C%20-118.309183%5D%2C%20%5B26.59201%2C%20-80.06926%5D%2C%20%5B28.305858%2C%20-82.701815%5D%2C%20%5B34.13347%2C%20-117.95379%5D%2C%20%5B32.955321%2C%20-97.04032%5D%2C%20%5B38.9104%2C%20-104.71953%5D%2C%20%5B37.65274%2C%20-77.431712%5D%2C%20%5B28.354049%2C%20-81.525431%5D%2C%20%5B35.90309%2C%20-78.60371%5D%2C%20%5B40.560419%2C%20-89.110516%5D%2C%20%5B33.71912%2C%20-84.39681%5D%2C%20%5B34.073339%2C%20-117.295407%5D%2C%20%5B33.900058%2C%20-117.473263%5D%2C%20%5B41.89314%2C%20-87.63709%5D%2C%20%5B33.71418%2C%20-84.26859%5D%2C%20%5B32.761205%2C%20-117.163107%5D%2C%20%5B34.20439%2C%20-118.981904%5D%2C%20%5B40.9062%2C%20-73.85651%5D%2C%20%5B44.81192%2C%20-73.43301%5D%2C%20%5B34.777082%2C%20-82.460535%5D%2C%20%5B36.739774%2C%20-119.777438%5D%2C%20%5B39.10488%2C%20-94.76593%5D%2C%20%5B41.22577%2C%20-95.96942%5D%2C%20%5B25.73254%2C%20-80.31895%5D%2C%20%5B42.70435%2C%20-82.7777%5D%2C%20%5B32.78739%2C%20-96.76597%5D%2C%20%5B36.877567%2C%20-119.973187%5D%2C%20%5B33.98237%2C%20-118.28037%5D%2C%20%5B39.60459%2C%20-104.89035%5D%2C%20%5B33.98468%2C%20-118.2807%5D%2C%20%5B40.83541%2C%20-73.88211%5D%2C%20%5B34.109268%2C%20-117.528339%5D%2C%20%5B42.79772%2C%20-123.2553%5D%2C%20%5B41.83542%2C%20-87.60776%5D%2C%20%5B41.7166%2C%20-72.649251%5D%2C%20%5B40.556684%2C%20-74.435065%5D%2C%20%5B42.38189%2C%20-83.75859%5D%2C%20%5B36.666553%2C%20-119.728334%5D%2C%20%5B45.20004%2C%20-123.18003%5D%2C%20%5B32.77779%2C%20-96.78403%5D%2C%20%5B33.42444%2C%20-84.17764%5D%2C%20%5B38.6938%2C%20-121.75868%5D%2C%20%5B29.75905%2C%20-95.35107%5D%2C%20%5B34.03278%2C%20-118.22089%5D%2C%20%5B32.763644%2C%20-117.160596%5D%2C%20%5B38.495969%2C%20-121.459148%5D%2C%20%5B34.068483%2C%20-117.973942%5D%2C%20%5B39.053%2C%20-77.05096%5D%2C%20%5B25.75018%2C%20-80.295511%5D%2C%20%5B32.914999%2C%20-117.231002%5D%2C%20%5B34.073871%2C%20-80.978175%5D%2C%20%5B41.16393%2C%20-73.35795%5D%2C%20%5B33.86749%2C%20-78.63664%5D%2C%20%5B28.879581%2C%20-82.092704%5D%2C%20%5B33.55479%2C%20-117.67278%5D%2C%20%5B35.82073%2C%20-78.59174%5D%2C%20%5B39.93002%2C%20-86.26787%5D%2C%20%5B38.371373%2C%20-85.746436%5D%2C%20%5B33.72534%2C%20-81.56364%5D%2C%20%5B39.75369%2C%20-75.55331%5D%2C%20%5B35.309983%2C%20-80.838979%5D%2C%20%5B34.001301%2C%20-118.410054%5D%2C%20%5B43.1862%2C%20-77.63887%5D%2C%20%5B35.339446%2C%20-119.017895%5D%2C%20%5B25.685926%2C%20-80.401521%5D%2C%20%5B40.110112%2C%20-75.350603%5D%2C%20%5B37.245063%2C%20-76.637088%5D%2C%20%5B40.1484%2C%20-76.270535%5D%2C%20%5B41.81905%2C%20-71.38453%5D%2C%20%5B33.942034%2C%20-118.011585%5D%2C%20%5B43.209859%2C%20-77.69594%5D%2C%20%5B42.662806%2C%20-73.829307%5D%5D%2C%0A%20%20%20%20%20%20%20%20%20%20%20%20%20%20%20%20%7B%22blur%22%3A%2015%2C%20%22maxZoom%22%3A%2018%2C%20%22minOpacity%22%3A%200.5%2C%20%22radius%22%3A%2025%7D%0A%20%20%20%20%20%20%20%20%20%20%20%20%29.addTo%28map_f720e61c53b04c1d9ba8220f2ac3469a%29%3B%0A%20%20%20%20%20%20%20%20%0A%3C/script%3E onload=\"this.contentDocument.open();this.contentDocument.write(    decodeURIComponent(this.getAttribute('data-html')));this.contentDocument.close();\" allowfullscreen webkitallowfullscreen mozallowfullscreen></iframe></div></div>"
      ],
      "text/plain": [
       "<folium.folium.Map at 0x1e3e678c790>"
      ]
     },
     "execution_count": 68,
     "metadata": {},
     "output_type": "execute_result"
    }
   ],
   "source": [
    "map = folium.Map()\n",
    "HeatMap(lat_lon_pairs).add_to(map)\n",
    "map"
   ]
  },
  {
   "cell_type": "code",
   "execution_count": 57,
   "id": "5c1ded12",
   "metadata": {},
   "outputs": [],
   "source": [
    "import folium\n",
    "from folium import plugins"
   ]
  },
  {
   "cell_type": "code",
   "execution_count": 58,
   "id": "e97147ff",
   "metadata": {},
   "outputs": [
    {
     "data": {
      "text/plain": [
       "0             Light Rain\n",
       "1             Light Rain\n",
       "2               Overcast\n",
       "3               Overcast\n",
       "4               Overcast\n",
       "               ...      \n",
       "1516059             Fair\n",
       "1516060             Fair\n",
       "1516061    Partly Cloudy\n",
       "1516062             Fair\n",
       "1516063             Fair\n",
       "Name: Weather_Condition, Length: 1516064, dtype: object"
      ]
     },
     "execution_count": 58,
     "metadata": {},
     "output_type": "execute_result"
    }
   ],
   "source": [
    "US_data.Weather_Condition"
   ]
  },
  {
   "cell_type": "code",
   "execution_count": 59,
   "id": "1539a0dc",
   "metadata": {},
   "outputs": [
    {
     "data": {
      "text/plain": [
       "Index(['ID', 'Severity', 'Start_Time', 'End_Time', 'Start_Lat', 'Start_Lng',\n",
       "       'End_Lat', 'End_Lng', 'Distance(mi)', 'Description', 'Number', 'Street',\n",
       "       'Side', 'City', 'County', 'State', 'Zipcode', 'Country', 'Timezone',\n",
       "       'Airport_Code', 'Weather_Timestamp', 'Temperature(F)', 'Wind_Chill(F)',\n",
       "       'Humidity(%)', 'Pressure(in)', 'Visibility(mi)', 'Wind_Direction',\n",
       "       'Wind_Speed(mph)', 'Precipitation(in)', 'Weather_Condition', 'Amenity',\n",
       "       'Bump', 'Crossing', 'Give_Way', 'Junction', 'No_Exit', 'Railway',\n",
       "       'Roundabout', 'Station', 'Stop', 'Traffic_Calming', 'Traffic_Signal',\n",
       "       'Turning_Loop', 'Sunrise_Sunset', 'Civil_Twilight', 'Nautical_Twilight',\n",
       "       'Astronomical_Twilight'],\n",
       "      dtype='object')"
      ]
     },
     "execution_count": 59,
     "metadata": {},
     "output_type": "execute_result"
    }
   ],
   "source": [
    "US_data.columns"
   ]
  },
  {
   "cell_type": "code",
   "execution_count": 60,
   "id": "fb0f81c5",
   "metadata": {},
   "outputs": [
    {
     "data": {
      "text/plain": [
       "0            SW\n",
       "1          Calm\n",
       "2          Calm\n",
       "3          Calm\n",
       "4          Calm\n",
       "           ... \n",
       "1516059       W\n",
       "1516060      SW\n",
       "1516061     SSW\n",
       "1516062      SW\n",
       "1516063      SW\n",
       "Name: Wind_Direction, Length: 1516064, dtype: object"
      ]
     },
     "execution_count": 60,
     "metadata": {},
     "output_type": "execute_result"
    }
   ],
   "source": [
    "US_data.Wind_Direction"
   ]
  },
  {
   "cell_type": "code",
   "execution_count": 61,
   "id": "e274fd6c",
   "metadata": {},
   "outputs": [
    {
     "data": {
      "text/plain": [
       "0          Between Sawmill Rd/Exit 20 and OH-315/Olentang...\n",
       "1                         At OH-4/OH-235/Exit 41 - Accident.\n",
       "2                           At I-71/US-50/Exit 1 - Accident.\n",
       "3                           At I-71/US-50/Exit 1 - Accident.\n",
       "4                            At Dart Ave/Exit 21 - Accident.\n",
       "                                 ...                        \n",
       "1516059                             At Market St - Accident.\n",
       "1516060      At Camino Del Rio/Mission Center Rd - Accident.\n",
       "1516061    At Glassell St/Grand Ave - Accident. in the ri...\n",
       "1516062       At CA-90/Marina Fwy/Jefferson Blvd - Accident.\n",
       "1516063                At Highland Ave/Arden Ave - Accident.\n",
       "Name: Description, Length: 1516064, dtype: object"
      ]
     },
     "execution_count": 61,
     "metadata": {},
     "output_type": "execute_result"
    }
   ],
   "source": [
    "US_data.Description"
   ]
  },
  {
   "cell_type": "markdown",
   "id": "eb52bcbb",
   "metadata": {},
   "source": [
    "### Ask & answer questions\n",
    "#### Are there more accidents in warmer or colder areas?\n",
    "#### Which 5 states have the highest number of accidents? How about per capita?\n",
    "#### Does New York show up in the data? If yes, why is the count lower if this the most populated city.\n",
    "#### Among the top 100 cities in number of accidents, which states do they belong to most frequently.\n",
    "#### What time of the day are accidents most frequent in? \n",
    "#### Which days of the week have the most accidents?\n",
    "#### Which months have the most accidents?\n",
    "#### What is the trend of accidents year over year (decreasing/increasing?)\n",
    "#### When is accidents per unit of traffic the highest."
   ]
  },
  {
   "cell_type": "markdown",
   "id": "a4808c18",
   "metadata": {},
   "source": [
    "### Conclusion\n",
    "\n",
    "#### No data from New York\n",
    "#### The number of accidents per city decreases exponentially\n",
    "#### Less than 2% of cities have more than 1000 yearly accidents.\n",
    "#### 97% of cities have less than 1000 yearly accidents.\n",
    "#### Over 1167 cities have reported just one accident (need to investigate)"
   ]
  }
 ],
 "metadata": {
  "kernelspec": {
   "display_name": "Python 3",
   "language": "python",
   "name": "python3"
  },
  "language_info": {
   "codemirror_mode": {
    "name": "ipython",
    "version": 3
   },
   "file_extension": ".py",
   "mimetype": "text/x-python",
   "name": "python",
   "nbconvert_exporter": "python",
   "pygments_lexer": "ipython3",
   "version": "3.8.8"
  }
 },
 "nbformat": 4,
 "nbformat_minor": 5
}
